{
 "cells": [
  {
   "cell_type": "markdown",
   "id": "11700607",
   "metadata": {},
   "source": [
    "Hej gruppen!\n",
    "\n",
    "I början antecknade jag för hand och inte speciellt organiserat. Det märks lite när det gäller frånvaron av hållpunkter (vilken sektion av videon jag hämtat informationen ifrån), men jag tror inte det gör så stor skillnad från er såtillvida ni inte vill kolla upp något i videon. Det är inte renskrivet på något sätt, men ambitionen har varit att skriva så att vi kan använda den som en lathund när vi väl sätter igång. \n",
    "\n",
    "Det är många upprepningar av kod för att det lättare skulle gå att få en överblick om vi skulle hoppa in någonstans mitt i. I slutet tröttnade jag dock vid något tillfälle och då har jag bara skrivit in referenser (den första biten kod) till de celler som ska användas.\n",
    "\n",
    "Avnittet Understandning the Drawbacks of Using Deep Neural Networks with Images hoppade jag över helt och hållet.\n",
    "\n",
    "Vill ni kolla på videon heter den Image Classification with PyTorch."
   ]
  },
  {
   "cell_type": "markdown",
   "id": "381e1b0e",
   "metadata": {},
   "source": [
    "Color images has 3 channels (R, G, B) and gray scale images 1 (pixel intensity). The number of channels specifies the number of elements in the 3rd dimension (the first two are height and width but this can vary).\n",
    "Grayscale (3,3,1)\n",
    "Color (3,3,3)\n",
    "\n",
    "Deep learning frameworks usually deal with a list of images in one 4d tensor (10,3,3,3) where the first dimension is the batch dimension. "
   ]
  },
  {
   "cell_type": "markdown",
   "id": "c286a66b",
   "metadata": {},
   "source": [
    "### Image Pre-processing Methods\n",
    "#### Common techniques to improve CNN performance\n",
    "    1. Uniform Aspect Ratio\n",
    "    2. Uniform Image Size\n",
    "    3. Mean and Perturbed Images\n",
    "    4. Normalized Image Inputs\n",
    "    5. Dimensionality Reduction\n",
    "    6. Data Augmentation"
   ]
  },
  {
   "cell_type": "markdown",
   "id": "e3d7f665",
   "metadata": {},
   "source": [
    "#### Uniform Aspect Ratio\n",
    "The ratio of the width of your image to the height of the image. Scale all \n",
    "images to have the same ration.\n",
    "Crop images to square shape. Do a center crop to extract the most important part."
   ]
  },
  {
   "cell_type": "markdown",
   "id": "d87ec73f",
   "metadata": {},
   "source": [
    "#### Uniform Image Size\n",
    "All images have to be of the same size. Down-scaling and up-scaling."
   ]
  },
  {
   "cell_type": "markdown",
   "id": "47fd5488",
   "metadata": {},
   "source": [
    "#### Mean and Perturbed Images\n",
    "##### Mean image:\n",
    "Calculate average pixel value across the entire training data set. Eg. faces is usually centered.\n",
    "Mean image technique will help yout CNN detect patterns.\n",
    "##### Perturbed image:\n",
    "Intentionally distort pixels by varying them from the mean image.\n",
    "Perturbed image technique can make your CNN more robust by preventing it from focusing only on the center of the image."
   ]
  },
  {
   "cell_type": "markdown",
   "id": "359c048f",
   "metadata": {},
   "source": [
    "#### Normalized Image Inputs\n",
    "Center your pixel values around 0 mean. You normalize eache pixel by subtracting the mean pixel value across all of your training data or single batch, and dividing by the standard deviation. This ensures that each pixel has a similar data distribution. After normalization you might choose to rescale your pixel values to be in th 0-1 range."
   ]
  },
  {
   "cell_type": "markdown",
   "id": "6d48d3ba",
   "metadata": {},
   "source": [
    "#### Deimensionality Reduction\n",
    "RGB => grayscale reduces 3 channels to 1. Training completes faster and helps extract the latent of significant features from your underlying data so thar your neural network does not have to deal with irrelevant features."
   ]
  },
  {
   "cell_type": "markdown",
   "id": "db6e0e99",
   "metadata": {},
   "source": [
    "#### Data Augmentation\n",
    "Perturbed images are a form of data augmentation. Others are:\n",
    "- scaling,\n",
    "- rotating or\n",
    "- perform affine transforms of the input image.\n",
    "Reduces the risk of overfitting your CNN on your training data."
   ]
  },
  {
   "cell_type": "code",
   "execution_count": 3,
   "id": "91c01d90",
   "metadata": {},
   "outputs": [
    {
     "ename": "TypeError",
     "evalue": "imread() missing 1 required positional argument: 'fname'",
     "output_type": "error",
     "traceback": [
      "\u001b[1;31m---------------------------------------------------------------------------\u001b[0m",
      "\u001b[1;31mTypeError\u001b[0m                                 Traceback (most recent call last)",
      "\u001b[1;32m<ipython-input-3-aa01cbc4c304>\u001b[0m in \u001b[0;36m<module>\u001b[1;34m\u001b[0m\n\u001b[0;32m      1\u001b[0m \u001b[1;32mimport\u001b[0m \u001b[0mmatplotlib\u001b[0m\u001b[1;33m.\u001b[0m\u001b[0mimage\u001b[0m \u001b[1;32mas\u001b[0m \u001b[0mmpimg\u001b[0m\u001b[1;33m\u001b[0m\u001b[1;33m\u001b[0m\u001b[0m\n\u001b[0;32m      2\u001b[0m \u001b[1;33m\u001b[0m\u001b[0m\n\u001b[1;32m----> 3\u001b[1;33m \u001b[0mmpimg\u001b[0m\u001b[1;33m.\u001b[0m\u001b[0mimread\u001b[0m\u001b[1;33m(\u001b[0m\u001b[1;33m)\u001b[0m  \u001b[1;31m# Läsa in bilden\u001b[0m\u001b[1;33m\u001b[0m\u001b[1;33m\u001b[0m\u001b[0m\n\u001b[0m\u001b[0;32m      4\u001b[0m \u001b[1;33m\u001b[0m\u001b[0m\n\u001b[0;32m      5\u001b[0m \u001b[1;31m# Reshape\u001b[0m\u001b[1;33m\u001b[0m\u001b[1;33m\u001b[0m\u001b[1;33m\u001b[0m\u001b[0m\n",
      "\u001b[1;31mTypeError\u001b[0m: imread() missing 1 required positional argument: 'fname'"
     ]
    }
   ],
   "source": [
    "import matplotlib.image as mpimg\n",
    "\n",
    "mpimg.imread(img)  # Läsa in bilden\n",
    "\n",
    "# Reshape\n",
    "reshape(img.shape[0],-1)  # Samma höjd, men ändrat bredd och kanalvärde\n",
    "\n",
    "# Resize\n",
    "skimage.transform.resize(img, (500,500))  # Ändrar även proportioner\n",
    "\n",
    "# Ratio\n",
    "aspect_ratio_original = img_original.shape[1]/float(img_original.shape[0])\n",
    "aspect_ratio_resized = img_resized.shape[1]/float(img_resized.shape[0])\n",
    "\n",
    "# Rescale\n",
    "rescaled = skimage.transform.rescale(resized, (1.0, aspect_ratio_original))\n",
    "\n",
    "# RGB => BGR\n",
    "change_channel_order = img[:, :, (2,1,0)]\n",
    "\n",
    "# Gray\n",
    "to_gray = skimage.color.rgb2gray(img)\n",
    "\n",
    "# As float\n",
    "as_float = skimage.img_as_float(skimage.io.imread(img)).astype(np.float32)\n",
    "\n",
    "# Crop\n",
    "def crop(image, cropx, cropy):  # (img,) width and height, eg. 256, 256\n",
    "    y, x, c = image.shape\n",
    "    startx = x // 2 - (cropx // 8)  # Vertictal line halfway? \n",
    "    starty = y // 3 - (cropy // 4)  # Horizontal line on third from top? \n",
    "    stopx = startx + cropx\n",
    "    stopy = starty + 2 * cropy\n",
    "    return image[starty:stopy, startx:stopx]\n",
    "\n",
    "# Show picture\n",
    "plt.figure(figsize=(6,6))\n",
    "plt.title('Something')\n",
    "plt.imshow(img_name)\n",
    "\n",
    "# Make noise in image\n",
    "from skimage.util import random_noise\n",
    "sigma = 0.155\n",
    "noisy = random_noise(img, var=sigma**2)\n",
    "\n",
    "# Remove noise from image\n",
    "from skimage import denoise_tv_chambolle, denoise_bilateral, denoise_wavelet, estimate_sigma\n",
    "\n",
    "#sigma_est shows the noise value\n",
    "sigma_est = estimate_sigma(img, multichannel=True, average_sigmas=True)\n",
    "\n",
    "# Total variation filter\n",
    "plt.imshow(denoise_tv_chambolle(img, weight=0.1, multichannel=True))\n",
    "\n",
    "# Bilateral filter\n",
    "plt.imshow(denoise_bilateral(img, sigma_color=0.05, sigma_spatial=15, multichannel=True))\n",
    "\n",
    "# Wavelet filter\n",
    "plt.imshow(denoise_wavelet(img, multichannel=True))\n",
    "\n",
    "# Flip your images randomly to build a more robust model\n",
    "flipped = np.fliplr(img)  # l = left, r = right"
   ]
  },
  {
   "cell_type": "code",
   "execution_count": null,
   "id": "876d1c76",
   "metadata": {},
   "outputs": [],
   "source": [
    "# Standardizing Images in Pytorch\n",
    "import pickle, numpy as np, matplotlib as plt\n",
    "\n",
    "# The dataset consists of 10 000 pictures with the size of (32,32,3)\n",
    "X.shape  #(10000,3072) 3072 = 32*32*3\n",
    "\n",
    "# Reshape\n",
    "X.reshape((-1,3,32,32))  # -1 selects all images(?)\n",
    "\n",
    "# Different ML frameworks expects images to be in different format. Reshape if needed!\n",
    "\n",
    "# Transpose\n",
    "X = X.transpose(0,2,3,1)  # (10000,32,32,3)\n",
    "\n",
    "# Back to original\n",
    "X = X.reshpe(-1,3*32*32)\n",
    "\n",
    "# Center data\n",
    "X = X - X.means(axis=0)  # Subtract the mean value of all pixels ...\n",
    "X = X(np.std(X,axis=0))  # ... and divide by the standard deviation\n",
    "# The resulting images are all centered around 0 and expressed in terms z scores\n",
    "# (standardavvikelser). Helps the performance of the ML models.\n",
    "\n",
    "def show(i):\n",
    "    i = i.reshape((32,32,3))\n",
    "    m, M = i.min(), i.max()  # Min and max value of pixel intensities\n",
    "    plt.imshow((i - m) / (M - m))  # Scales all pixels to be within 0 and 1\n",
    "    plt.show()\n",
    "show(X[6])\n",
    "\n"
   ]
  },
  {
   "cell_type": "markdown",
   "id": "480e614a",
   "metadata": {},
   "source": [
    "#### Whitening\n",
    "Whitening can be used to decorrelate features in our input images. It is the \n",
    "transformation of data in such a way that its covariance matrix is the\n",
    "identity matrix (enhetsmatris).\n",
    "\n",
    "#### Variance vs covariance\n",
    "Wikipedia: Variance refers to the spread of a data set around its mean value,\n",
    "while a covariance refers to the measure of the directional relationship\n",
    "between two random variables.\n",
    "\n",
    "Wikipedia: Om de större värdena hos en variabel i huvudsak korrelerar med de\n",
    "större värden hos den andra variabeln och motsvarande gäller för de mindre\n",
    "värdena (att de uppvisar liknande beteende) är kovariansen positiv.\n",
    "Om de större värdena hos den ena variabeln korrelerar med de mindre hos den\n",
    "andra är kovariansen negativ. Kovariansens tecken visar således tendensen\n",
    "i den linjära relationen mellan variablerna."
   ]
  },
  {
   "cell_type": "code",
   "execution_count": null,
   "id": "1320ba21",
   "metadata": {},
   "outputs": [],
   "source": [
    "# Calculate covarince\n",
    "cov = np.cov(dataset, rowvar=True)\n",
    "\n",
    "# Extract the latent factors in our covariance matrix with Single Value Decomposition\n",
    "U, S, V = np.linalg.svd(cov)\n",
    "\n",
    "# ZCA whitening, the principal components, the sginificant feature\n",
    "epsilon = 1e-5\n",
    "zca_matrix = np.dot(U, np.dot(np.diag(1.0 / np.sqrt(S + epsilon)), U.T))\n",
    "\n",
    "# Multiply the principal components by the original matrix is whitening\n",
    "zca = np.dot(zca_matrix, dataset)\n",
    "\n",
    "# Learn more about why whitening is useful."
   ]
  },
  {
   "cell_type": "code",
   "execution_count": null,
   "id": "d3ce75c9",
   "metadata": {},
   "outputs": [],
   "source": [
    "import torch\n",
    "import torchvision\n",
    "import torchvision.transforms as transforms\n",
    "\n",
    "# PyTorch have a bunch of helper classes to transform the images.\n",
    "dir(transforms)\n",
    "\n",
    "transform = transforms.Compose([transforms.Resize(256), transforms.ToTensor()])\n",
    "\n",
    "# CIFAR10 is a built-in dataset, this code downloads the dataset and transforms the images\n",
    "dataset = torchvision.datasets.CIFAR10(root='./datasets/cifar10/train',\n",
    "                                      download=True, transform=transform)\n",
    "\n",
    "# Once you hava a dataset in PyTorch, you can load in the data in this dataset\n",
    "# in batches using a DataLoader.\n",
    "dataloader = torch.utils.data.DataLoader(dataset, batch_size=16, shuffle=True, num_workers=2)\n",
    "\n",
    "# Use Python iter function to load in the first batch of images and correspondent labels\n",
    "images_batch, labels_batch = iter(dataloader).next()\n",
    "\n",
    "# Look at the images in the batch\n",
    "img = torchvision.utils.make_grid(images_batch)\n",
    "\n",
    "img.shape\n",
    "# If out is torch.Size([3, something, something]), transpose it so that the channels is last\n",
    "img = np.transpose(img, (1,2,0))"
   ]
  },
  {
   "cell_type": "code",
   "execution_count": null,
   "id": "10fd77cf",
   "metadata": {},
   "outputs": [],
   "source": [
    "# We can´t always load all images in a batch at once, but we still have to know the mean and std\n",
    "pop_mean = []\n",
    "pop_std = []\n",
    "\n",
    "for i, data in enumerate(dataloader, 0):\n",
    "    numpy_image = data[0].numpy()\n",
    "    \n",
    "    batch_mean = np.mean(numpy_image, axis=(0, 2, 3))  # 0 = batch, 2 = height, 3 = width\n",
    "    batch_std = np.std(numpy_image, axis=(0, 2, 3))\n",
    "    \n",
    "    pop_mean.append(batch_mean)\n",
    "    pop_std.append(batch_std)\n",
    "\n",
    "# Make the lists arrays    \n",
    "pop_mean = np.array(pop_mean)\n",
    "pop_std = np.array(pop_std)\n",
    "\n",
    "# Approximate the mean and standard deviation averages\n",
    "pop_mean = pop_mean.mean(axis=0)\n",
    "pop_std = pop_std.mean(axis=0)\n",
    "\n",
    "# Print the result\n",
    "print(pop_mean)\n",
    "print(pop_std)\n",
    "\n",
    "# Output is\n",
    "# [0.491.., 0.482.., 0.4467..]\n",
    "# [0.238.., 0.234.., 0.2526..]\n",
    "\n",
    "# Examples of somre transforms that we can apply on the input images before we feed them in.\n",
    "transform = transforms.Compose([\n",
    "    transforms.Resize(256),\n",
    "    transforms.RandomResizedCrop(224),\n",
    "    transforms.ColorJitter(),\n",
    "    transforms.RandomHorizontalFlip(),\n",
    "    transforms.ToTensor,\n",
    "    transforms.Normalize(pop_mean, pop_std)  # Normalize is to subtracting the mean and dividing\n",
    "                                             # the images by the standard deviation, often \"standardization\"\n",
    "                                             # outside PyTorch but then it´s slightly different. \n",
    "])\n",
    "\n",
    "# Load the dataset with the specified transforms once again\n",
    "trainset = torchvision.datasets.CIFAR10(root='./datasets/cifar10/train', train=True,\n",
    "                                      download=True, transform=transform)\n",
    "\n",
    "# Create a new DataLoader\n",
    "trainloader = torch.utils.data.DataLoader(trainset, batch_size=16, shuffle=True, num_workers=2)\n",
    "\n",
    "# Look at one batch\n",
    "images_batch, labels_batch = iter(trainloader).next()\n",
    "images_batch.shape\n",
    "\n",
    "img = torchvision.utils.make_grid(images_batch)\n",
    "img.shape\n",
    "\n",
    "img = np.transpose(img, (1, 2, 0))  # Set the channels in the 3rd dimension if not already there\n",
    "\n",
    "# Scale all pixel value between 0 and 1\n",
    "m, M = img.min(), img.max()  # Check the values\n",
    "img = (1/(abs(m) * M)) * img + 0.5  # The values will be centered around 0.5"
   ]
  },
  {
   "cell_type": "markdown",
   "id": "50da484a",
   "metadata": {},
   "source": [
    "### Introducing Convolutional Neural Networks\n",
    "Every neuron in our eye is stimulated using a local receptive field. CNNs are also designed to have a local receptive field and are used to extract features from input images. Pooling layers in a CNN apply an aggregation function to the input.\n",
    "\n",
    "#### Neural Networks\n",
    "The idea that lower-level neurons pick up granular information which are then put together to understand more complex patterns by higher-level neurons.\n",
    "\n",
    "#### Two Kinds of Layers in CNNs:\n",
    "1. Convolution, local receptive field, reacts only on those pixels that lie within the local receptive field.\n",
    "2. Pooling, responsible for subsampling the input, sampling the input to extract higher level abstractions and make the data more tractable to work with.\n",
    "\n",
    "#### Convolution\n",
    "Allows neurons to focus on a lical receptive field and react to visual stimuli in that field. In this contect, convolutional refers to a mathematical function which basically is a sliding window function that is applied to a matrix. The matrix refers to the input image, a matrix of pixels. The sliding window function is applied to this input image to extract features and is often called a kernel or a filter. It is associated with wieghts and these weight are what help this kernel extract specific kinds of features, detect edges, corners, lines. The function slides over every pixel in the input image. The kernel is applies in an element-wise sliding-window fashion.\n",
    "\n",
    "The matrix (e.g. 6x6) in combination with a kernel (e.g. 3x3) results in a convolution result that is smaller (4x4) than our input image. This is because of the size of the kernel that we´ve chosen. The kernel cannot slide off the edges of the input matrix unless we specify padding.\n",
    "\n",
    "(Is the kernel always built of one 0, one 1, one 0 a.s.o.?)\n",
    "\n",
    "The value of the pixel in the matrix is multiplied by the value of the cell in the kernel that is layered over the matrix, i.e. 1 or 0. The sum of all sums is the value in the first cell of our convolution result table. This convolution kernel is applied to every channel of the input image separately, so if you have a multi-channel image the convolution kernel will slide over the matrix for each channel. \n",
    "\n",
    "#### Convolutional Layers\n",
    "- Convolutional layers zoom in on specific bits of input. \n",
    "- Extract structure and features in the input image (with help of the kernel).\n",
    "- Successive layers aggregate inputs into higher level features. Earlier layers are focusiing on extracting the individual pieces like them in a jigsaw puzzle, later layers put them together. They aggregate and put into higher level features. Pixels >> Lines >> Edges >> Object\n",
    "\n",
    "When you apply a convolution kernel to a pixel matrix, the result of the convolution layer is a feature map/convolution result.\n",
    "\n",
    "#### Kernel Size\n",
    "- Convolutional kernel size usually expressed in terms of width and height of receptive area.\n",
    "- It´s more efficient to use small convolutional kernels.\n",
    "- Stacking two 3x3 kernels is prefereable to one 9x9 kernel.\n",
    "\n",
    "#### Feature Maps\n",
    "A stride is basically the distance between successive receptive fields (the movement of the kernel), a horizontal and a vertical.\n",
    "\n",
    "If we want our feature map to be the same size as our input matrix, we might need 0 padding at the edges. \n",
    "\n",
    "CNNs are sparsely connected neural networks, not densely. Neurons are not connected to all pixels.\n",
    "\n",
    "All neurons in a feature map have the same weight and biases. \n",
    "\n",
    "Two big advantages over DNNs:\n",
    "1. Dramatically fewer parameters to train.\n",
    "2. CNN can recognize feature patterns independent of location. This adds location invariance to our convolutional layer.\n",
    "\n",
    "#### CNNs\n",
    "A convolutional layer can be thought of as a stack of feature maps (same size) which extract different features from the input image which gives it a depth. A CNN is made up of many convolutional layers. Different feature maps have different parameters and extract different features from the input. \n",
    "\n",
    "#### Pooling Layers\n",
    "The input to a pooling layer is essentially a matrix of pixels that is our image. The pooling layer applies a kind of aggregation operation to the input. This aggregation can be the max aggregation (a 2x2 filter (stride = 2 (horizontal and vertical)) for a 4x4 matrix). An alternative is average pooling where pooling layer calculates the average of the input pixels. \n",
    "\n",
    "The pooling filter does not stride pixel by pixel but instead moves one length at some direction. A maximum layer take the max value from the matrix part hovered by the pooling layer and puts it in the pooling result table. \n",
    "\n",
    "Neurons in a pooling layer have no weights or biases.\n",
    "\n",
    "A pooling neuron simply applies some aggregation function to all inputs. Max, sum or average. \n",
    "\n",
    "Why we use them?\n",
    "- Greatly reduce memory usage during training\n",
    "- Mitigate overfitting (via subsampling)\n",
    "- Make NN recognize features independent of location (location invariance)\n",
    "\n",
    "Pooling layers typically act on each channel independently.\n",
    "\n",
    "Usually, output are < input area, but the output depth = input depth.\n",
    "\n",
    "#### CNN Architectures\n",
    "The input will be a batch or list of images which will be passed through convolutional layers, followed by pooling layers followed by other convolutional layers. The order can change between different architectures as well as the number of layers respectively.\n",
    "\n",
    "Each group of convolutional layers is usually followed by a ReLU activation layer. Between the convolutional layers and the ReLU layers you often do a batch nomalization (shifting and scaling the output of your convolutional layer around 0).\n",
    "\n",
    "The output of every layer of the CNN is an image. As the image passes through the layers, the successive outputs are smaller and smaller (thanks to the pooling layers) as well as deeper and deeper (due to feature maps in the convolutional layers). The small but deep output is then fed into a regular, feed-forward neural network. \n",
    "\n",
    "This feed-forward neural network is essentially a fully connected neural network which has a few fully connected layers with the ReLU activation. The feed-forward layer will emit output probabilities for different categories and this is typically the softmax or the log softmax layer. \n",
    "\n",
    "The input to a CNN is an image and the output of a CNN are probabilities. These will be the probabilites corresponding to the different categories in our image classification problem. "
   ]
  },
  {
   "cell_type": "markdown",
   "id": "8188c0ee",
   "metadata": {},
   "source": [
    "#### Understand Convolution"
   ]
  },
  {
   "cell_type": "code",
   "execution_count": null,
   "id": "ad319bfa",
   "metadata": {},
   "outputs": [],
   "source": [
    "import numpy as np\n",
    "from PIL import Image\n",
    "import matplotlib.pyplot as plt"
   ]
  },
  {
   "cell_type": "code",
   "execution_count": null,
   "id": "c882cce0",
   "metadata": {},
   "outputs": [],
   "source": [
    "img = Image.open('file/path').convert('RGB')"
   ]
  },
  {
   "cell_type": "code",
   "execution_count": null,
   "id": "7b8eaacf",
   "metadata": {},
   "outputs": [],
   "source": [
    "import torch\n",
    "import torch.nn as nn\n",
    "import torch.nn.functional as F\n",
    "from torchvision import transforms as tf"
   ]
  },
  {
   "cell_type": "code",
   "execution_count": null,
   "id": "90c29e6d",
   "metadata": {},
   "outputs": [],
   "source": [
    "transforms = tf.Compose([tf.Resize(400), tf.ToTensor()])  # Resize preserves the original ratio, input in pixels"
   ]
  },
  {
   "cell_type": "code",
   "execution_count": null,
   "id": "e648b057",
   "metadata": {},
   "outputs": [],
   "source": [
    "img_tensor = transforms(img)"
   ]
  },
  {
   "cell_type": "code",
   "execution_count": null,
   "id": "8857bdbd",
   "metadata": {},
   "outputs": [],
   "source": [
    "img_tensor.shape\n",
    "# Output is torch.Size([3, 400, 599])"
   ]
  },
  {
   "cell_type": "code",
   "execution_count": null,
   "id": "f70b8c3f",
   "metadata": {},
   "outputs": [],
   "source": [
    "# A 4d matrix (four [])\n",
    "sharpen_kernel = [[\n",
    "    [[0, -1, 0]],\n",
    "    [[-1, 5, -1]],\n",
    "    [[0, -1, 0]]]]"
   ]
  },
  {
   "cell_type": "code",
   "execution_count": null,
   "id": "426e0903",
   "metadata": {},
   "outputs": [],
   "source": [
    "horizontal_line_kernel = [[\n",
    "    [[1, 0, -1]],\n",
    "    [[0, 0, 0]],\n",
    "    [[-1, 0, 1]]]]"
   ]
  },
  {
   "cell_type": "code",
   "execution_count": null,
   "id": "80d0580c",
   "metadata": {},
   "outputs": [],
   "source": [
    "vertical_line_kernel = [[\n",
    "    [[0, 1, 0]],\n",
    "    [[1, -4, 1]],\n",
    "    [[0, 1, 0]]]]"
   ]
  },
  {
   "cell_type": "code",
   "execution_count": null,
   "id": "c3050d02",
   "metadata": {},
   "outputs": [],
   "source": [
    "edge_detection_kernel = [[\n",
    "    [[-1, -1, -1]],\n",
    "    [[-1, 8, -1]],\n",
    "    [[-1, -1, -1]]]]"
   ]
  },
  {
   "cell_type": "code",
   "execution_count": null,
   "id": "66b55366",
   "metadata": {},
   "outputs": [],
   "source": [
    "# Convert the convolutional kernel matrix to a torch.Tensor\n",
    "conv_filter = torch.Tensor(sharpen_kernel)"
   ]
  },
  {
   "cell_type": "code",
   "execution_count": null,
   "id": "dddea34a",
   "metadata": {},
   "outputs": [],
   "source": [
    "conv_filter.shape\n",
    "# Output is torch.Size([1, 3, 1, 3]) A [] with 1 [[[]]] consisting of\n",
    "# 3 [[]] consisting of 1 [] consisting of 3 values?\n",
    "# 1 = batch, 3 = RGB, 1 = height of the kernel, 3 = width of the kernel"
   ]
  },
  {
   "cell_type": "code",
   "execution_count": null,
   "id": "16c97547",
   "metadata": {},
   "outputs": [],
   "source": [
    "# Add an additional batch dimension of 1 at axis 0.\n",
    "img_tensor = img_tensor.unsqueeze(0)"
   ]
  },
  {
   "cell_type": "code",
   "execution_count": null,
   "id": "070ddca8",
   "metadata": {},
   "outputs": [],
   "source": [
    "img_tensor.shape\n",
    "# Output is torch.Size([1, 3, 400, 599])"
   ]
  },
  {
   "cell_type": "code",
   "execution_count": null,
   "id": "22a83f7d",
   "metadata": {},
   "outputs": [],
   "source": [
    "# Apply the sharpen_kernel to our input image\n",
    "conv_tensor = F.conv2d(img_tensor, conv_filter, padding=0)"
   ]
  },
  {
   "cell_type": "code",
   "execution_count": null,
   "id": "228396cb",
   "metadata": {},
   "outputs": [],
   "source": [
    "conv_tensor.shape\n",
    "# Output is torch.Size([1, 1, 400, 597])  # 597: The 3x3 kernel can´t slide over the last to pixels."
   ]
  },
  {
   "cell_type": "code",
   "execution_count": null,
   "id": "29c4d2be",
   "metadata": {},
   "outputs": [],
   "source": [
    "# Get rid of the batch layer in the convolution result for an 3d image\n",
    "conv_img = conv_tensor[0, :, :, :]\n",
    "conv_img.shape\n",
    "# Output is torch.Size([1, 400, 597])  # Channel, width, height"
   ]
  },
  {
   "cell_type": "code",
   "execution_count": null,
   "id": "be8dd776",
   "metadata": {},
   "outputs": [],
   "source": [
    "# Squeeze out the single dimension at the beginning\n",
    "conv_img = conv_img.numpy().squeeze()\n",
    "conv.img.shape\n",
    "# Output is ([400, 597]) and can be viewed using matplotlib"
   ]
  },
  {
   "cell_type": "code",
   "execution_count": null,
   "id": "24959cf2",
   "metadata": {},
   "outputs": [],
   "source": [
    "plt.figure(figsize=(20,10))\n",
    "plt.imshow(conv_img)"
   ]
  },
  {
   "cell_type": "markdown",
   "id": "d5a4aae0",
   "metadata": {},
   "source": [
    "#### Understand Pooling"
   ]
  },
  {
   "cell_type": "code",
   "execution_count": null,
   "id": "7a74dcff",
   "metadata": {},
   "outputs": [],
   "source": [
    "pool = nn.MaxPool2d(2,2)"
   ]
  },
  {
   "cell_type": "code",
   "execution_count": null,
   "id": "17f292f5",
   "metadata": {},
   "outputs": [],
   "source": [
    "pool_tensor = pool(conv_tensor)"
   ]
  },
  {
   "cell_type": "code",
   "execution_count": null,
   "id": "9055948e",
   "metadata": {},
   "outputs": [],
   "source": [
    "pool_tensor.shape\n",
    "# Output is torch.Size([1, 1, 200, 298])\n",
    "# The default stride of a pooling layer is typically the size of the pooling kernel.\n",
    "# The output is therefore halfed (compare [400,597] with [200,298])"
   ]
  },
  {
   "cell_type": "code",
   "execution_count": null,
   "id": "e6d01956",
   "metadata": {},
   "outputs": [],
   "source": [
    "pool_img = pool_tensor[0, :, :, :]\n",
    "pool_img.shape\n",
    "# Output is torch.Size([1, 200, 298])"
   ]
  },
  {
   "cell_type": "code",
   "execution_count": null,
   "id": "0c941084",
   "metadata": {},
   "outputs": [],
   "source": [
    "pool_img = pool_img.numpy().squeeze()\n",
    "pool_img.shape\n",
    "# Output is (200, 298)"
   ]
  },
  {
   "cell_type": "code",
   "execution_count": null,
   "id": "eb8b25b8",
   "metadata": {},
   "outputs": [],
   "source": [
    "plt.figure(figsize=(20,10))\n",
    "plt.imshow(pool_img)"
   ]
  },
  {
   "cell_type": "markdown",
   "id": "67d0cea4",
   "metadata": {},
   "source": [
    "### Building Convolutional Neural Networks for Image Recognition"
   ]
  },
  {
   "cell_type": "markdown",
   "id": "87bbfd38",
   "metadata": {},
   "source": [
    "#### Zero-padding, Stride Size \n",
    "##### Narrow vs. Wide Convolution\n",
    "Narrow convolution: Little zero padding; output (feature map/convolution result) narrower than input (image). Default if not specifying zero padding.\n",
    "Wide convolution: Lots of zero padding, output wider than input.\n",
    "\n",
    "With zero padding, every element of the matrix will be passed into filter. You might want to use zero-padding if you have important features located at the edges of your input images. We choose the number of zero columns to pad with. \n",
    "\n",
    "##### Stride Size\n",
    "We can also choose how many columns and rows our kernel should move between each step. A horizontal stride of 1 makes the kernel move one step to the right and a vertical stride of two it moves two steps down. Stride size is an important hyperparameter in CNNs, default value in each direction is 1.\n",
    "\n",
    "#### Batch Normalization\n",
    "When building CNNs you'll often apply batch normalization to the output of your convolutional layers before passing them into the activation function. It mitigates the problem of vanishing and exploding gradients during training.\n",
    "\n",
    "##### Training via Back Propagation\n",
    "Image => Pixels => Edges => Corners => Object Parts => ML-based Classifier\n",
    "\n",
    "The training of a neural network happens via back propagation; the backward pass through our neural network. The forward pass uses the current model's parameters to give you predicted values. You can 1) then compare them with actual values and calculate the error (Classifier). You 2) then use an optimizer which calculates gradients with respect to this error or loss (Object Parts), and 3) then uses these gradients to make backward pass through your neural network (Corners) to 4) update the model parameters (Edges). This is training your model via back propagation.\n",
    "\n",
    "Back propagation fails if:\n",
    "- gradients are vanishing, or\n",
    "- gradients are exploding.\n",
    "\n",
    "##### Vanishing Gradient Problem\n",
    "Gradient descent optimization that we used to train our neural network model involves descending down in this gradient slope to find those model parameters that give us the lowest value of loss. It is possible that while trining your model you'll find that even when you tweak your model parameters, the gradient becomes 0 and stops changing. This don't allow our model to converge and is the vanishing gradient problem.\n",
    "\n",
    "##### Exploding Gradient Problem\n",
    "With this problem the gradient explodes och changes abruptly. This means that instead of descending down the gradient slope to find the smallest value of loss, you're kind of moving up and down with this slope and your model does not converge. \n",
    "\n",
    "##### Coping with Vanishing/Exploding Gradients\n",
    "Neural networks that are very, very deep are especially prone to this problem of vanishing and exploding gradients. \n",
    "It can be mitigated with:\n",
    "- Proper initialization of your model parameters (Xavier and He initialization techniques for example),\n",
    "- Non-saturating activation function,\n",
    "- Batch normalization (reguralization technique that centers your inputs around 0),\n",
    "- Gradient clipping (set a min and max value of the gradient that can exist)\n",
    "\n",
    "##### Batch Normalization\n",
    "Apply to your input just before applying activation function. First normalize inputs (subtracting the mean and dividing by the standard deviation) and then scaling (multiply by constant) and shifting (add constant) the inputs around a specific value. Normalization is a pre-processing technique but is also applied to an intermediate output of our neural network.\n",
    "\n",
    "Batch normlization:\n",
    "- allows much larger learn rate,\n",
    "- reduces overfitting, and\n",
    "- speeds convergence of training.\n"
   ]
  },
  {
   "attachments": {
    "image.png": {
     "image/png": "[encoded data removed]"
    }
   },
   "cell_type": "markdown",
   "id": "f2a6d80d",
   "metadata": {},
   "source": [
    "#### Choice of Activation Function\n",
    "Neural networksa re made up of layers of intercinnected neurons. Once you have a fully trained neural network, all the efges which represent interconnetions have weights which help make pedictions. \n",
    "\n",
    "##### Operation of a Single Neuron\n",
    "Neurons are simply mathematical functions. Each neuron applies two simple functions to its inputs:\n",
    "1. Affine Transformation and\n",
    "2. Activation Function.\n",
    "\n",
    "The affine transformation is responsible for learning linear relationships that exist in your data. The affine transformation alone kan ONLY learn LINEAR relationships between the inputs and the output. It is just a weighted sum with a bias added W1x1 + W2x2 + ... + Wnxn + b where W is ??? and x is input. The output is Wx + b.\n",
    "\n",
    "The activation function is responsible for learning non-linear relationships. Wx + b => Activation function => max(Wx + b, 0). The combination of the affine transformation and the activation function can learn any arbitrary (slumpmässig) relationship. \n",
    "\n",
    "##### Activation Function\n",
    "- ReLU \n",
    "- logit\n",
    "- tanh\n",
    "- step\n",
    "\n",
    "![image.png](attachment:image.png)\n",
    "All of these function contain an active region with a slope. The choice of activation function is crucial in determining performance. \n",
    "\n",
    "##### Feature Map Size Calculations\n",
    "Formula for dimension calculations: <br>\n",
    "O = (W - K + 2P) / S + 1<br>\n",
    "O = output dimension (height or width)\n",
    "W = height or width of the input dimension (the matrix/image)<br>\n",
    "K = height or width of the kernel size (often squared but not always)  <br>\n",
    "P = padding (if any)<br>\n",
    "S = stride size (horizontal if calculating the width or vertical if calculating the height)\n",
    "\n",
    "#### Demo"
   ]
  },
  {
   "cell_type": "code",
   "execution_count": 1,
   "id": "bec1819a",
   "metadata": {},
   "outputs": [
    {
     "ename": "ModuleNotFoundError",
     "evalue": "No module named 'torch'",
     "output_type": "error",
     "traceback": [
      "\u001b[1;31m---------------------------------------------------------------------------\u001b[0m",
      "\u001b[1;31mModuleNotFoundError\u001b[0m                       Traceback (most recent call last)",
      "\u001b[1;32m<ipython-input-1-88320821d9a6>\u001b[0m in \u001b[0;36m<module>\u001b[1;34m\u001b[0m\n\u001b[0;32m      3\u001b[0m \u001b[1;32mimport\u001b[0m \u001b[0mmatplotlib\u001b[0m\u001b[1;33m.\u001b[0m\u001b[0mpyplot\u001b[0m \u001b[1;32mas\u001b[0m \u001b[0mplt\u001b[0m\u001b[1;33m\u001b[0m\u001b[1;33m\u001b[0m\u001b[0m\n\u001b[0;32m      4\u001b[0m \u001b[1;33m\u001b[0m\u001b[0m\n\u001b[1;32m----> 5\u001b[1;33m \u001b[1;32mimport\u001b[0m \u001b[0mtorch\u001b[0m\u001b[1;33m\u001b[0m\u001b[1;33m\u001b[0m\u001b[0m\n\u001b[0m\u001b[0;32m      6\u001b[0m \u001b[1;32mimport\u001b[0m \u001b[0mtorchvision\u001b[0m\u001b[1;33m\u001b[0m\u001b[1;33m\u001b[0m\u001b[0m\n",
      "\u001b[1;31mModuleNotFoundError\u001b[0m: No module named 'torch'"
     ]
    }
   ],
   "source": [
    "import pandas as pd\n",
    "import numpy as np\n",
    "import matplotlib.pyplot as plt\n",
    "\n",
    "import torch\n",
    "import torchvision"
   ]
  },
  {
   "cell_type": "code",
   "execution_count": null,
   "id": "5ffa3e2d",
   "metadata": {},
   "outputs": [],
   "source": [
    "mnist_train = pd.read_csv('datasets(mnist-in-csv/mnist_train.csv)')\n",
    "mnist_test = pd.read_csv('datasets(mnist-in-csv/mnist_test.csv)')"
   ]
  },
  {
   "cell_type": "code",
   "execution_count": null,
   "id": "9d67c9bd",
   "metadata": {},
   "outputs": [],
   "source": [
    "# Clean up the data\n",
    "mnist_train = mnist_train.dropna()  # Drops all records which we have missing fields\n",
    "mnist_test = mnist_test.dropna()"
   ]
  },
  {
   "cell_type": "code",
   "execution_count": null,
   "id": "13ff8e3a",
   "metadata": {},
   "outputs": [],
   "source": [
    "# Explore the data\n",
    "random_sel = mnist_train.sample(8)\n",
    "random_sel.shape\n",
    "# Output is (8, 785), 8 pictures and each record has 785 columns"
   ]
  },
  {
   "cell_type": "code",
   "execution_count": null,
   "id": "fcd13cc1",
   "metadata": {},
   "outputs": [],
   "source": [
    "# Drop the 'label' column\n",
    "image_features = random_sel.drop('label', axis=1)\n",
    "\n",
    "# Convert to a 0-1 scale (pixel intensity values = 0 - 255)\n",
    "image_batch = (torch.Tensor(image_features.values / 255.)).reshape((-1, 28, 28))\n",
    "\n",
    "image_batch.shape\n",
    "# Output is torch.Size([8, 28, 28]), 8 images, 28x28 pixels"
   ]
  },
  {
   "cell_type": "code",
   "execution_count": null,
   "id": "2e5f3ab6",
   "metadata": {},
   "outputs": [],
   "source": [
    "# Make a grid\n",
    "# make_grid converts our images to 3-channel images.\n",
    "grid = torchvision.utils.make_grid(image_batch.unsqueeze(1), nrow=8)\n",
    "grid.shape\n",
    "# Output is torch.Size([3, 32, 242])"
   ]
  },
  {
   "cell_type": "code",
   "execution_count": null,
   "id": "8a10b99f",
   "metadata": {},
   "outputs": [],
   "source": [
    "# Make the channel dimension the last of the three, \n",
    "# matplotlib expects us to have the channel information in the last dimension\n",
    "plt.figure(figsiza=(12,12))\n",
    "plt.imshow(grid.numpy().transpose((1, 2, 0)))\n",
    "plt.axis('off')"
   ]
  },
  {
   "cell_type": "code",
   "execution_count": null,
   "id": "2ff729bb",
   "metadata": {},
   "outputs": [],
   "source": [
    "# Extract the training features (image pixel intensity) ...\n",
    "mnist_train_features = mnist_train.drop('label', axis=1)\n",
    "# ... and the corresponding labels into separate tensors.\n",
    "mnist_train_target = mnist_train['label']\n",
    "\n",
    "mnist_test_features = mnist_test.drop('label', axis=1)\n",
    "mnist_test_target = mnist_test['label']"
   ]
  },
  {
   "cell_type": "code",
   "execution_count": null,
   "id": "dd21bbcd",
   "metadata": {},
   "outputs": [],
   "source": [
    "# Convert all of the image data to torch.Tensors\n",
    "X_train_tensor = torch.tensor(mnist_train_features.values, dtype=torch.float)\n",
    "x_test_tensor = torch.tensor(mnist_test_features.values, dtype=torch.float)\n",
    "\n",
    "Y_train_tensor = torch.tensor(mnist_train_target.values, dtype=torch.long)\n",
    "y_test_tensor = torch.tensor(mnist_train_target.values, dtype=torch.long)"
   ]
  },
  {
   "cell_type": "code",
   "execution_count": null,
   "id": "c48d0d63",
   "metadata": {},
   "outputs": [],
   "source": [
    "print(X_train_tensor.shape)\n",
    "print(x_train_tensor.shape)\n",
    "print(Y_test_tensor.shape)\n",
    "print(y_test_tensor.shape)\n",
    "# Output is\n",
    "# torch.Size([60000, 784])\n",
    "# torch.Size([60000])\n",
    "# torch.Size([10000, 784])\n",
    "# torch.Size([10000])"
   ]
  },
  {
   "cell_type": "code",
   "execution_count": null,
   "id": "6981ce8d",
   "metadata": {},
   "outputs": [],
   "source": [
    "# CNNs in PyTorch expect images to be fed in (batches, channels, height/width, height/width)\n",
    "# We have to reshape the images.\n",
    "X_train_tensor = X_train_tensor.reshape(-1, 1, 28, 28)\n",
    "\n",
    "x_test_tensor = x_test_tensor.reshape(-1, 1, 28, 28)"
   ]
  },
  {
   "cell_type": "code",
   "execution_count": null,
   "id": "9b5a2c05",
   "metadata": {},
   "outputs": [],
   "source": [
    "print(X_train_tensor.shape)\n",
    "print(x_train_tensor.shape)\n",
    "print(Y_test_tensor.shape)\n",
    "print(y_test_tensor.shape)\n",
    "# Output is\n",
    "# torch.Size([60000, 1, 28, 28])\n",
    "# torch.Size([60000])\n",
    "# torch.Size([10000, 1, 28, 28])\n",
    "# torch.Size([10000])"
   ]
  },
  {
   "cell_type": "markdown",
   "id": "573db480",
   "metadata": {},
   "source": [
    "### Building Convolutional Neural Networks for Image Classification"
   ]
  },
  {
   "cell_type": "code",
   "execution_count": null,
   "id": "3505301d",
   "metadata": {},
   "outputs": [],
   "source": [
    "import torch.nn as nn\n",
    "import torch.nn.functional as F"
   ]
  },
  {
   "cell_type": "code",
   "execution_count": null,
   "id": "ccd3851b",
   "metadata": {},
   "outputs": [],
   "source": [
    "# Input size is the number of channels in the input image, 1 for grayscales\n",
    "in_size = 1\n",
    "\n",
    "# Two convolutional layers. Refers to the number of feature maps generated by each\n",
    "#  convolutional layer, the depth of the output produced by each layer.\n",
    "hid1_size = 16\n",
    "hid2_size = 32\n",
    "\n",
    "# Output size (the dataset is about digits, and since we have 10 digits it will be equal to 10)\n",
    "out_size = 10\n",
    "\n",
    "# Convolutional kernel size, 5x5 \n",
    "k_conv_size = 5"
   ]
  },
  {
   "cell_type": "code",
   "execution_count": null,
   "id": "87d549db",
   "metadata": {},
   "outputs": [],
   "source": [
    "# Set up our custom neural network which inherits from nn.Module base class.\n",
    "class ConvNet(nn.Module):\n",
    "    def __init__(self):\n",
    "        super(ConvNet, self).__init__()\n",
    "        \n",
    "        self.layer1 = nn.Sequential(\n",
    "            nn.Conv2d(in_size, hid1_size, k_conv_size),\n",
    "            nn.BatchNorm2d(hid1_size),\n",
    "            nn.ReLU(),\n",
    "            nn.MaxPool2d(kernel_size=2))\n",
    "        \n",
    "        self.layer2 = nn.Sequential(\n",
    "            nn.Conv2d(hid1_size, hid2_size, k_conv_size), \n",
    "            nn.BatchNorm2d(hid2_size),\n",
    "            nn.ReLU(),\n",
    "            nn.MaxPool2d(kernel_size=2))\n",
    "        \n",
    "        # The size of this linear layer depends on the size of the outputs of previous layers,\n",
    "        # 512 based on our input image size and the strides and the kernel size. \n",
    "        # We can use the formula discussed earlier (O = (W - K + 2P) / S + 1?) or a more practical approach below.\n",
    "        self.fc = nn.Linear(512, out_size)\n",
    "    \n",
    "    # Takes the input images and applies the convolutional, pooling and linear layers to the input\n",
    "    def forward(self, x):\n",
    "        \n",
    "        # If your're not sure of how many pixels you should have in your linear layer,\n",
    "        # you can simply leave the linear layer out (self.fc = nn.Linear(512, out_size)),\n",
    "        # print out the shapes at every layer of your cnn, and once you know the shape of\n",
    "        # the final output you can then set up your linear layer.\n",
    "        \n",
    "        out = self.layer1(x)\n",
    "        print(out.shape)\n",
    "        \n",
    "        # The output of the first layer is passed into the second layer\n",
    "        out = self.layer2(out)\n",
    "        print(out.shape)\n",
    "        \n",
    "        # Reshape for the linear layers to a 1d vector \n",
    "        out = out.reshape(out.size(0), -1)\n",
    "        print(out.shape)\n",
    "        \n",
    "        # The output will be fed into our fully connected layer which we had set to 512 pixels\n",
    "        out = self.fc(out)\n",
    "        print(out.shape)\n",
    "        \n",
    "        #return out\n",
    "        return F.log_softmax(out, dim=-1)"
   ]
  },
  {
   "cell_type": "code",
   "execution_count": null,
   "id": "748bee50",
   "metadata": {},
   "outputs": [],
   "source": [
    "# Create an instance of this model\n",
    "model = ConvNet()"
   ]
  },
  {
   "cell_type": "code",
   "execution_count": null,
   "id": "0906b685",
   "metadata": {},
   "outputs": [],
   "source": [
    "# Something with using GPU ...\n",
    "device = torch.device('cuda:0' if torch.cuda.is_available() else 'cpu')\n",
    "print(device)\n",
    "# Output is cuda:0"
   ]
  },
  {
   "cell_type": "code",
   "execution_count": null,
   "id": "a2ad992d",
   "metadata": {},
   "outputs": [],
   "source": [
    "# Make a copy somehow ...\n",
    "model.to(device)"
   ]
  },
  {
   "cell_type": "code",
   "execution_count": null,
   "id": "889280c5",
   "metadata": {},
   "outputs": [],
   "source": [
    "# Copy over the tensors for the training and testing images and the corresponding labels\n",
    "# Unsure of whether this comment should be in this or next cell ...\n",
    "ConvNet(\n",
    "    (layer1): Sequential(\n",
    "        (0): Conv2d(1, 16, kernel_size=(5,5), stride=(1,1))\n",
    "        (1): BatchNorm2d(16, eps=1e-05, momentum=0.1, affine=True, track_running_stats=True)\n",
    "        (2): ReLU()\n",
    "        (3): MaxPool2d(kernel_size=2, stride=2, padding=0, dilation=1, ceil_mode=False)\n",
    "    )\n",
    "    (layer2): Sequential(\n",
    "        (0): Conv2d(16, 32, kernel_size=(5,5), stride=(1,1))\n",
    "        (1): BatchNorm2d(32, eps=1e-05, momentum=0.1, affine=True, track_running_stats=True)\n",
    "        (2): ReLU()\n",
    "        (3): MaxPool2d(kernel_size=2, stride=2, padding=0, dilation=1, ceil_mode=False)\n",
    "    )    \n",
    "    (fc): Linear(in_features=512, out_features=10, bias=True)\n",
    "    )"
   ]
  },
  {
   "cell_type": "code",
   "execution_count": null,
   "id": "40fb9f6a",
   "metadata": {},
   "outputs": [],
   "source": [
    "# Copy over the tensors for the training and testing images and the corresponding labels\n",
    "X_train_tensor = X_train_tensor.to(device)\n",
    "x_test_tensor = X_test_tensor.to(device)\n",
    "\n",
    "Y_train_tensor = Y_train_tensor.to(device)\n",
    "y_test_tensor = y_test_tensor.to(device)"
   ]
  },
  {
   "cell_type": "markdown",
   "id": "d9e58597",
   "metadata": {},
   "source": [
    "#### Training a CNN"
   ]
  },
  {
   "cell_type": "code",
   "execution_count": null,
   "id": "49ec674f",
   "metadata": {},
   "outputs": [],
   "source": [
    "# Learning rate\n",
    "learning_rate = 0.001\n",
    "\n",
    "# Loss function, can be used when we apply softmax  activationto our linear layer\n",
    "# or work directly with the output of the linear layer.\n",
    "criterion = nn.CrossEntropyLoss()\n",
    "\n",
    "# Instantiate an Adam optimizer\n",
    "optimizer = torch.optim.Adam(model.parameters(), lr=learning_rate)"
   ]
  },
  {
   "cell_type": "code",
   "execution_count": null,
   "id": "7e1603b0",
   "metadata": {},
   "outputs": [],
   "source": [
    "# Number of epochs that the cnn will train\n",
    "num_epochs = 10\n",
    "loss_values = list()"
   ]
  },
  {
   "cell_type": "code",
   "execution_count": null,
   "id": "1b497c43",
   "metadata": {},
   "outputs": [],
   "source": [
    "# Code to train the CNN\n",
    "for epoch in range(1, num_epochs):\n",
    "    outputs = model(X_train_tensor)\n",
    "    # Calculate the loss from the actual labels vs the predicted labels\n",
    "    loss = criterion(outputs, Y_train_tensor)\n",
    "    \n",
    "    # Zero out the gradients for our model\n",
    "    optimizer.zero_grad()\n",
    "    # Make a backward pass for the neural network\n",
    "    loss.backward()\n",
    "    # Update the model parameters \n",
    "    optimizer.step()\n",
    "    \n",
    "    print('Epoch - %d, loss - #%.5f '%(epoch, loss.item()))\n",
    "    loss_values.append(loss.item())\n",
    "    \n",
    "# Output is:\n",
    "# Layer 1\n",
    "# torch.Size([60000 (no images), 16 (depth of convolutional layer output), \n",
    "# 12, 12 (images 28x28, kernel =5 => images 24x24, MaxPool size=2 => images 12x12)])\n",
    "\n",
    "# Layer 2\n",
    "# torch.Size([60000, 32, 4, 4]), depth of 32 as of hid2_size\n",
    "\n",
    "# Linear layer (?)\n",
    "# torch.Size([60000, 512 (32*4*4)])\n",
    "\n",
    "# The fully connected linear layer has an output of 10 (n.o. digits)\n",
    "# torch.Size([60000, 10]) "
   ]
  },
  {
   "cell_type": "code",
   "execution_count": null,
   "id": "efabad53",
   "metadata": {},
   "outputs": [],
   "source": [
    "# Plot the list of the loss values for each epoch\n",
    "x = (range(0, 9))\n",
    "\n",
    "plt.figure(figsize=(8,8))\n",
    "plt.plot(x, loss_values)\n",
    "plt.xlabel('Epoch')\n",
    "plt.ylabel('Loss')"
   ]
  },
  {
   "cell_type": "code",
   "execution_count": null,
   "id": "81b66bab",
   "metadata": {},
   "outputs": [],
   "source": [
    "# We are now ready to see how this model performs on the test data\n",
    "# eval mode is important when using batch normalization after our convolutional layers.\n",
    "model.eval()\n"
   ]
  },
  {
   "cell_type": "code",
   "execution_count": null,
   "id": "c2938562",
   "metadata": {},
   "outputs": [],
   "source": [
    "ConvNet(\n",
    "    (layer1): Sequential(\n",
    "        (0): Conv2d(1, 16, kernel_size=(5,5), stride=(1,1))\n",
    "        (1): BatchNorm2d(16, eps=1e-05, momentum=0.1, affine=True, track_running_stats=True)\n",
    "        (2): ReLU()\n",
    "        (3): MaxPool2d(kernel_size=2, stride=2, padding=0, dilation=1, ceil_mode=False)\n",
    "    )\n",
    "    (layer2): Sequential(\n",
    "        (0): Conv2d(16, 32, kernel_size=(5,5), stride=(1,1))\n",
    "        (1): BatchNorm2d(32, eps=1e-05, momentum=0.1, affine=True, track_running_stats=True)\n",
    "        (2): ReLU()\n",
    "        (3): MaxPool2d(kernel_size=2, stride=2, padding=0, dilation=1, ceil_mode=False)\n",
    "    )    \n",
    "    (fc): Linear(in_features=512, out_features=10, bias=True)\n",
    ")"
   ]
  },
  {
   "cell_type": "code",
   "execution_count": null,
   "id": "8513065b",
   "metadata": {},
   "outputs": [],
   "source": [
    "# Evaluate model by calculating the accuracy\n",
    "from sklearn.metrics import accuracy_score, precision_score, recall_score"
   ]
  },
  {
   "cell_type": "code",
   "execution_count": null,
   "id": "3d7efa9d",
   "metadata": {},
   "outputs": [],
   "source": [
    "# Code to feed in the test data to our model for evaluation\n",
    "with torch.no_grad():\n",
    "    \n",
    "    correct = 0\n",
    "    total = 0\n",
    "    outputs = model(x_test_tensor)\n",
    "    _, predicted = torch.max(outputs.data, 1)\n",
    "    \n",
    "    y_test = y_test_tensor.cpu().numpy()\n",
    "    predicted = predicted.cpu()\n",
    "    \n",
    "    print('Accuracy: ', accuracy_score(predicted, y_test))\n",
    "    print('Precision: ', precision_score(predicted, y_test, average='weighted'))\n",
    "    print('Recall: ', recall_score(predicted, y_test, average='weighted'))\n",
    "    \n",
    "    # Output is\n",
    "    # Accuracy: 0.7834\n",
    "    # Precision: 0.8176...\n",
    "    # Recall: 0.7834\n",
    "    # With an increased amount of epochs the model will perform better, and we \n",
    "    # can also perform hyperparameter tuning, see below."
   ]
  },
  {
   "cell_type": "markdown",
   "id": "24ed625f",
   "metadata": {},
   "source": [
    "##### Hyperparameter Tuning"
   ]
  },
  {
   "cell_type": "code",
   "execution_count": null,
   "id": "b97cc396",
   "metadata": {},
   "outputs": [],
   "source": [
    "# Change this layer and hid1_size = 16\n",
    "hid1_size = 8\n",
    "\n",
    "# Continue with ...\n",
    "model = ConvNet()\n",
    "\n",
    "# ... and all of the remaining cells\n",
    "\n",
    "# Output is \n",
    "# Accuracy: 0.7098\n",
    "# Precision: 0.74958...\n",
    "# Recall: 0.7098\n",
    "# Since the result got worse, change back hid1_size = 16\n",
    "\n",
    "# Instead, change the learning_rate from 0.001 to\n",
    "learning_rate = 0.01\n",
    "\n",
    "# Run all cells\n",
    "# Output is\n",
    "# Accuracy: 0.8676\n",
    "# Precision: 0.8784...\n",
    "# Recall: 0.8676\n",
    "\n",
    "# Switch back the learning rate ...\n",
    "learning_rate = 0.001\n",
    "\n",
    "# ... and switch loss method to NLLLoss ...\n",
    "criterion = nn.NLLLoss()\n",
    "\n",
    "# ... and instead of the output linear layer (return out) we apply a log_soxtmax function\n",
    "# to our def forward()\n",
    "# Always use a log_softmax output when using NLLLoss!!!\n",
    "# Run all cells\n",
    "\n",
    "# Output is\n",
    "# Accuracy: 0.761\n",
    "# Precision: 0.80432...\n",
    "# Recall: 0.761\n",
    "\n",
    "# Change back criterion to CrossEntropyLoss() and change the optimizer to Stochastic gradient descent optimizer\n",
    "optimizer = torch.optim.SGD(model.parameters(), lr=learning_rate, momentum=0.9)\n",
    "# Let def forward() return out again and run all cells\n",
    "\n",
    "# Output is\n",
    "# Accuracy: 0.1261\n",
    "# Precision: 0.30527...\n",
    "# Recall: 0.1261\n",
    "\n",
    "# Change back to the Adam optimizer and let\n",
    "learning_rate = 0.01\n",
    "# Run all cells\n",
    "\n",
    "# Output is\n",
    "# Accuracy: 0.8876\n",
    "# Precision: 0.89328...\n",
    "# Recall: 0.8876"
   ]
  },
  {
   "cell_type": "markdown",
   "id": "2f7f6dad",
   "metadata": {},
   "source": [
    "### Optimizing Image Classification with Hyperparameter Tuning"
   ]
  },
  {
   "cell_type": "markdown",
   "id": "250b7122",
   "metadata": {},
   "source": [
    "#### Perform image classification on the CIFAR-10 dataset using CNNs"
   ]
  },
  {
   "cell_type": "code",
   "execution_count": null,
   "id": "69f2f600",
   "metadata": {},
   "outputs": [],
   "source": [
    "import numpy as np\n",
    "import matplotlib.pyplot as plt\n",
    "\n",
    "import torch\n",
    "import torchvision\n",
    "import torch.nn as nn\n",
    "import torch.nn.functional as F\n",
    "import torchvision.transforms as transforms"
   ]
  },
  {
   "cell_type": "code",
   "execution_count": null,
   "id": "1d647c61",
   "metadata": {},
   "outputs": [],
   "source": [
    "# Pre-process the images by normalizing using the mean and standard deviation\n",
    "import pickle"
   ]
  },
  {
   "cell_type": "code",
   "execution_count": null,
   "id": "32241274",
   "metadata": {},
   "outputs": [],
   "source": [
    "!wget https://www.cs.toronto.edu/~kriz/cifar-10-python.tar.gz -P datasets\n",
    "!tar xf datasets/cifar-10-python.tar.gz -C datasets"
   ]
  },
  {
   "cell_type": "code",
   "execution_count": null,
   "id": "e5830a40",
   "metadata": {},
   "outputs": [],
   "source": [
    "with open('datasets/cifar-10-batches-py/data_batch_1', 'rb') as input_file:\n",
    "    X = pickle.load(input_file, encoding='latin1')"
   ]
  },
  {
   "cell_type": "code",
   "execution_count": null,
   "id": "9ef6025d",
   "metadata": {},
   "outputs": [],
   "source": [
    "with open('datasets/cifar-10-batches-py/data_batch_1', 'rb') as input_file:\n",
    "    X = pickle.load(input_file, encoding='latin1')"
   ]
  },
  {
   "cell_type": "code",
   "execution_count": null,
   "id": "8c845703",
   "metadata": {},
   "outputs": [],
   "source": [
    "X.keys\n",
    "# Output is dict_keys(['batch_label', 'labels', 'data', 'filenames'])"
   ]
  },
  {
   "cell_type": "code",
   "execution_count": null,
   "id": "e78a81ad",
   "metadata": {},
   "outputs": [],
   "source": [
    "# Here there was a huge jump in the code to \n",
    "# Print the result\n",
    "print(pop_mean)\n",
    "print(pop_std)\n",
    "\n",
    "# Output is\n",
    "# [0.491.., 0.482.., 0.4467..]\n",
    "# [0.238.., 0.234.., 0.2526..]\n",
    "\n",
    "# Copy the output results and put the values in variables\n",
    "mean = [0.491.., 0.482.., 0.4467..]\n",
    "std = [0.238.., 0.234.., 0.2526..]"
   ]
  },
  {
   "cell_type": "code",
   "execution_count": null,
   "id": "5a89c02a",
   "metadata": {},
   "outputs": [],
   "source": [
    "# Set up the transformations that we want to use\n",
    "train_transform = transforms.Compose([\n",
    "    transforms.Resize(32),\n",
    "    transforms.RandomHorizontalFlip(),\n",
    "    transforms.ToTensor(),\n",
    "    transforms.Normalize(mean, std)\n",
    "])"
   ]
  },
  {
   "cell_type": "code",
   "execution_count": null,
   "id": "5431e014",
   "metadata": {},
   "outputs": [],
   "source": [
    "# User the same set of transformation to pre-process test data but leave out the flip\n",
    "test_transform = transforms.Compose([\n",
    "    transforms.Resize(32),\n",
    "    transforms.ToTensor(),\n",
    "    transforms.Normalize(mean, std)\n",
    "])"
   ]
  },
  {
   "cell_type": "code",
   "execution_count": null,
   "id": "2752699f",
   "metadata": {},
   "outputs": [],
   "source": [
    "# CIFAR-10 dataset ias a built-in dataset in PyTorch\n",
    "trainset = torchvision.datasets.CIFAR10(root='datasets/cifar10/train',\n",
    "                                       train=True,\n",
    "                                       download=True,\n",
    "                                       transform=train_transform)"
   ]
  },
  {
   "cell_type": "code",
   "execution_count": null,
   "id": "1d2d110a",
   "metadata": {},
   "outputs": [],
   "source": [
    "# And if we need to download the test dataset\n",
    "# CIFAR-10 dataset ias a built-in dataset in PyTorch\n",
    "testset = torchvision.datasets.CIFAR10(root='datasets/cifar10/train',\n",
    "                                       train=False,\n",
    "                                       download=True,\n",
    "                                       transform=test_transform)"
   ]
  },
  {
   "cell_type": "code",
   "execution_count": null,
   "id": "74aa4c91",
   "metadata": {},
   "outputs": [],
   "source": [
    "# Instantiate DataLoaders to load this data in batches\n",
    "trainloader = torch.utils.data.DataLoader(trainset,\n",
    "                                         batch_size=16,\n",
    "                                         shuffle=True,\n",
    "                                         num_workers=2)"
   ]
  },
  {
   "cell_type": "code",
   "execution_count": null,
   "id": "79f4ba9a",
   "metadata": {},
   "outputs": [],
   "source": [
    "# Specify the test DataLoader\n",
    "testloader = torch.utils.data.DataLoader(testset,\n",
    "                                         batch_size=16,\n",
    "                                         shuffle=False,\n",
    "                                         num_workers=2)\n"
   ]
  },
  {
   "cell_type": "code",
   "execution_count": null,
   "id": "d1d1cf19",
   "metadata": {},
   "outputs": [],
   "source": [
    "# The classes into which the images can be categorized\n",
    "class_names = trainset.classes\n",
    "\n",
    "print(class_names)\n",
    "# Output is\n",
    "# ['airplane', 'automobile', 'bird', 'cat', 'dog', 'frog', 'horse', 'ship', 'truck']"
   ]
  },
  {
   "cell_type": "code",
   "execution_count": null,
   "id": "ea2b57e3",
   "metadata": {},
   "outputs": [],
   "source": [
    "# Look at the shape of one batch\n",
    "img, label = iter(trainloader).next()"
   ]
  },
  {
   "cell_type": "code",
   "execution_count": null,
   "id": "0f946d71",
   "metadata": {},
   "outputs": [],
   "source": [
    "img.shape\n",
    "# Output is\n",
    "# torch.Size((16, 3, 32, 32))"
   ]
  },
  {
   "cell_type": "code",
   "execution_count": null,
   "id": "53cbf6b1",
   "metadata": {},
   "outputs": [],
   "source": [
    "label\n",
    "# Output is\n",
    "# tensor([3, 4, 4, 7, 3, 8, 0, 3, 5, 8, 2, 6, 2, 5, 7, 0])\n",
    "# The labels are numeric values corresponding to the class names or categories.\n",
    "# Label 0 corresponds to airplane, 3 to cat a.s.o."
   ]
  },
  {
   "cell_type": "markdown",
   "id": "efce8d73",
   "metadata": {},
   "source": [
    "#### Setting up the CNN to perform classification on the dataset"
   ]
  },
  {
   "cell_type": "code",
   "execution_count": null,
   "id": "3f9a8605",
   "metadata": {},
   "outputs": [],
   "source": [
    "in_size = 3 # Channels\n",
    "\n",
    "# Convolutional layers\n",
    "hid1_size = 16\n",
    "hid2_size = 32\n",
    "\n",
    "# Linear layers\n",
    "out1_size = 400\n",
    "out2_size = 10  # Corresponding to the number of categories\n",
    "\n",
    "k_conv_size = 5"
   ]
  },
  {
   "cell_type": "code",
   "execution_count": null,
   "id": "3c0ee4c2",
   "metadata": {},
   "outputs": [],
   "source": [
    "# Design our CNN\n",
    "class ConvNet(nn.Module):\n",
    "    def __init__(self):\n",
    "        super(ConvNet, self).__init__()\n",
    "        \n",
    "        self.layer1 = nn.Sequential(\n",
    "            nn.Conv2d(in_size, hid1_size, k_conv_size),\n",
    "            nn.BatchNorm2d(hid1_size),\n",
    "            nn.ReLU(),\n",
    "            nn.MaxPool2d(kernel_size=2))\n",
    "        \n",
    "        self.layer2 = nn.Sequential(\n",
    "            nn.Conv2d(hid1_size, hid2_size, k_conv_size), \n",
    "            nn.BatchNorm2d(hid2_size),\n",
    "            nn.ReLU(),\n",
    "            nn.MaxPool2d(kernel_size=2))\n",
    "        \n",
    "        # Fully connected layers\n",
    "        self.layer3= nn.Sequential(\n",
    "            nn.Linear(hid2_size * k_conv_size * k_conv_size, out1_size),\n",
    "            nn.ReLU(),\n",
    "            # Dropout layers are used in the training mode where we randomly turn off\n",
    "            # certain neurons, forcing others ti learn significant deatures from our input data\n",
    "            # to mitigate the network to overfitting on the training data.\n",
    "            nn.Dropout(0.5),\n",
    "            nn.Linear(out1_size, out2_size)\n",
    "\n",
    "    # Takes the input images and applies the convolutional, pooling and linear layers to the input\n",
    "    def forward(self, x):\n",
    "        \n",
    "        # If your're not sure of how many pixels you should have in your linear layer,\n",
    "        # you can simply leave the linear layer out (self.fc = nn.Linear(512, out_size)),\n",
    "        # print out the shapes at every layer of your cnn, and once you know the shape of\n",
    "        # the final output you can then set up your linear layer.\n",
    "        \n",
    "        out = self.layer1(x)\n",
    "        print(out.shape)\n",
    "        \n",
    "        # The output of the first layer is passed into the second layer\n",
    "        out = self.layer2(out)\n",
    "        print(out.shape)\n",
    "        \n",
    "        # Reshape for the linear layers to a 1d vector \n",
    "        out = out.reshape(out.size(0), -1)\n",
    "        print(out.shape)\n",
    "        \n",
    "        # The output will be fed into our fully connected layer which we had set to 512 pixels\n",
    "        out = self.layer3(out)\n",
    "        print(out.shape)\n",
    "        \n",
    "        #return out\n",
    "        return F.log_softmax(out, dim=-1)"
   ]
  },
  {
   "cell_type": "code",
   "execution_count": null,
   "id": "cf43a0c2",
   "metadata": {},
   "outputs": [],
   "source": [
    "# Instantiate and train the model parameters\n",
    "model = ConvNet()"
   ]
  },
  {
   "cell_type": "code",
   "execution_count": null,
   "id": "7b2e6724",
   "metadata": {},
   "outputs": [],
   "source": [
    "device = torch.device('cuda:0' if torch.cuda.is_available() else 'cpu')\n",
    "print(device)\n",
    "\n",
    "# Output is 'cuda:0'"
   ]
  },
  {
   "cell_type": "code",
   "execution_count": null,
   "id": "46d5b833",
   "metadata": {},
   "outputs": [],
   "source": [
    "# Copy the model parameters over to the GPU\n",
    "model.to(device)"
   ]
  },
  {
   "cell_type": "code",
   "execution_count": null,
   "id": "080f9e19",
   "metadata": {},
   "outputs": [],
   "source": [
    "ConvNet(\n",
    "    (layer1): Sequential(\n",
    "        (0): Conv2d(1, 16, kernel_size=(5,5), stride=(1,1))\n",
    "        (1): BatchNorm2d(16, eps=1e-05, momentum=0.1, affine=True, track_running_stats=True)\n",
    "        (2): ReLU()\n",
    "        (3): MaxPool2d(kernel_size=2, stride=2, padding=0, dilation=1, ceil_mode=False)\n",
    "    )\n",
    "    (layer2): Sequential(\n",
    "        (0): Conv2d(16, 32, kernel_size=(5,5), stride=(1,1))\n",
    "        (1): BatchNorm2d(32, eps=1e-05, momentum=0.1, affine=True, track_running_stats=True)\n",
    "        (2): ReLU()\n",
    "        (3): MaxPool2d(kernel_size=2, stride=2, padding=0, dilation=1, ceil_mode=False)\n",
    "    )    \n",
    "    (fc): Linear(in_features=512, out_features=10, bias=True)\n",
    ")"
   ]
  },
  {
   "cell_type": "code",
   "execution_count": null,
   "id": "eacdb3f6",
   "metadata": {},
   "outputs": [],
   "source": [
    "# Set up the parameters to train our model\n",
    "learning_rate = 0.001\n",
    "\n",
    "criterion = nn.NLLLoss()\n",
    "\n",
    "optimizer = torch.optim.Adam(model.parameters(), lr=learning_rate)"
   ]
  },
  {
   "cell_type": "code",
   "execution_count": null,
   "id": "4094d32d",
   "metadata": {},
   "outputs": [],
   "source": [
    "total_step = len(trainloader)\n",
    "num_epochs = 10\n",
    "loss_values = list()"
   ]
  },
  {
   "cell_type": "code",
   "execution_count": null,
   "id": "4a03b977",
   "metadata": {},
   "outputs": [],
   "source": [
    "# Outer for loop is for the number of epochs of training we want to run.\n",
    "for epoch in range(num_epochs):\n",
    "    \n",
    "    # Inner for loop runs over all of the batches in the training data.\n",
    "    for i, (images, labels) in enumerate(trainloader):\n",
    "        images, labels = images.to(device), labels.to(device)\n",
    "        outputs = model(images)\n",
    "        # Calculate the loss from the actual labels vs the predicted labels.\n",
    "        loss = criterion(outputs, labels)\n",
    "    \n",
    "        # Zero out the gradients for our model.\n",
    "        optimizer.zero_grad()\n",
    "        # Make a backward pass for the neural network.\n",
    "        loss.backward()\n",
    "        # Update the model parameters .\n",
    "        optimizer.step()\n",
    "        \n",
    "        # For every 200 batches, we'll print out the current epoch, the current step\n",
    "        # and the loss from our model.\n",
    "        if (i+1) % 2000 == 0:\n",
    "            print('Epoch [{}/{}], Step [{}/{}], Loss: {:.4f}'\n",
    "                  .format(epoch+1, num_epochs, i+1, total_step, loss.item()))\n",
    "            loss_values.append(loss.item())\n",
    "\n",
    "print('Finished Training')\n",
    "# Run cell and start training!!! This dataset takes around 10-15 minutes on the GPU."
   ]
  },
  {
   "cell_type": "code",
   "execution_count": null,
   "id": "558c2fb8",
   "metadata": {},
   "outputs": [],
   "source": [
    "# Visualize the loss values for every epoch\n",
    "x = (range(1, 11))\n",
    "\n",
    "plt.figure(figsize= (12, 10))\n",
    "\n",
    "plt.plot(x, loss_values)\n",
    "plt.xlabel('Step')\n",
    "plt.ylabel('Loss')"
   ]
  },
  {
   "cell_type": "code",
   "execution_count": null,
   "id": "53adfdf9",
   "metadata": {},
   "outputs": [],
   "source": [
    "# Let's use the fully trained model on the test dataset for prediction.\n",
    "# Make sure that you switch the model over to the eval mode since we have batch\n",
    "# normalization and dropout layers in our model.\n",
    "model.eval()\n",
    "\n",
    "# Turn off gradients during the evaluation process\n",
    "with torch.no_grad():\n",
    "    correct = 0\n",
    "    total = 0\n",
    "    for images, labels in testloader:\n",
    "        \n",
    "        images, labels = images.to(device), labels.to(device)\n",
    "        outputs = model(images)\n",
    "        _, predicted = torch.max(outputs.data, 1)\n",
    "        total += labels.size(0)\n",
    "        correct += (predicted == labels).sum().item()\n",
    "    \n",
    "    print('Accuracy of the model on the 10000 test images: {}%'\\\n",
    "          .format(100 * correct / total))\n",
    "    \n",
    "# Output is \n",
    "# Accuracy of the model on the 10000 test images: 73.27%"
   ]
  },
  {
   "cell_type": "code",
   "execution_count": null,
   "id": "3e4ca043",
   "metadata": {},
   "outputs": [],
   "source": [
    "# Let's make a prediction using our model on a sample image\n",
    "sample_img, _ = testset[23]"
   ]
  },
  {
   "cell_type": "code",
   "execution_count": null,
   "id": "6d0d4176",
   "metadata": {},
   "outputs": [],
   "source": [
    "sample_img.shape\n",
    "# Output is\n",
    "# torch.Size([3, 32, 32])"
   ]
  },
  {
   "cell_type": "code",
   "execution_count": null,
   "id": "ed32c283",
   "metadata": {},
   "outputs": [],
   "source": [
    "# Transpose the axes for matplotlib\n",
    "sample_img = np.transpose(sample_img, (1, 2, 0))"
   ]
  },
  {
   "cell_type": "code",
   "execution_count": null,
   "id": "1a9d77d7",
   "metadata": {},
   "outputs": [],
   "source": [
    "# Scale the sample image to be between 0 and 1, centered at 0.5\n",
    "m, M = sample_img.min(), sample_img.max()\n",
    "\n",
    "sample_img = (1/(abs(m) * M)) * sample_img + 0.5"
   ]
  },
  {
   "cell_type": "code",
   "execution_count": null,
   "id": "f6c1c441",
   "metadata": {},
   "outputs": [],
   "source": [
    "# Display image\n",
    "plt.figure(figsize = (6, 6))\n",
    "plt.imshow(sample_img)"
   ]
  },
  {
   "cell_type": "code",
   "execution_count": null,
   "id": "c0e3c346",
   "metadata": {},
   "outputs": [],
   "source": [
    "# Access test image and corresponding label from the dataset\n",
    "test_img, test_label = testset[23]\n",
    "\n",
    "# Reshape it to a form that our model expet (batch, num_channels, height, width)\n",
    "test_img = test_img.reshape(-1, 3, 32, 32)"
   ]
  },
  {
   "cell_type": "code",
   "execution_count": null,
   "id": "5aff9ccc",
   "metadata": {},
   "outputs": [],
   "source": [
    "# Copy this image tensor over to a Cuda device before passing it into our model\n",
    "out_predict = model(test_img.to(device))\n",
    "_, predicted = torch.max(out_predict.data, 1)"
   ]
  },
  {
   "cell_type": "code",
   "execution_count": null,
   "id": "e5842773",
   "metadata": {},
   "outputs": [],
   "source": [
    "print('Actual Label: ', test_label)\n",
    "# Output is\n",
    "# Actual Label: 9"
   ]
  },
  {
   "cell_type": "code",
   "execution_count": null,
   "id": "14d6965c",
   "metadata": {},
   "outputs": [],
   "source": [
    "print('Predicted Label: ', predicted.item())\n",
    "# Output is\n",
    "# Predicted Label: 9"
   ]
  },
  {
   "cell_type": "code",
   "execution_count": null,
   "id": "ee6fe923",
   "metadata": {},
   "outputs": [],
   "source": [
    "print('Class name for {}: {}'.format(predicted.item(), class_names[predicted.item()]))\n",
    "# Output is\n",
    "# Class name for 9: truck"
   ]
  },
  {
   "cell_type": "markdown",
   "id": "e608d9d8",
   "metadata": {},
   "source": [
    "##### Changing activation functions"
   ]
  },
  {
   "cell_type": "code",
   "execution_count": null,
   "id": "bd0db634",
   "metadata": {},
   "outputs": [],
   "source": [
    "class ConvNet(nn.Module):\n",
    "    def __init__(self):\n",
    "        super(ConvNet, self).__init__()\n",
    "        \n",
    "        self.layer1 = nn.Sequential(\n",
    "            nn.Conv2d(in_size, hid1_size, k_conv_size),\n",
    "            nn.BatchNorm2d(hid1_size),\n",
    "            # nn.ReLU(),  # Activation layer\n",
    "            # nn.Sigmoid(),\n",
    "            # nn.Tanh(),\n",
    "            nn.ELU();  # Exponential Linear Unit\n",
    "            nn.MaxPool2d(kernel_size=2))\n",
    "        \n",
    "        self.layer2 = nn.Sequential(\n",
    "            nn.Conv2d(hid1_size, hid2_size, k_conv_size), \n",
    "            nn.BatchNorm2d(hid2_size),\n",
    "            # nn.ReLU(),\n",
    "            # nn.Sigmoid(),\n",
    "            # nn.Tanh(),\n",
    "            nn.ELU();\n",
    "            nn.MaxPool2d(kernel_size=2))\n",
    "        \n",
    "        # Fully connected layers\n",
    "        self.layer3= nn.Sequential(\n",
    "            nn.Linear(hid2_size * k_conv_size * k_conv_size, out1_size),\n",
    "            # nn.ReLU(),\n",
    "            # nn.Sigmoid(),\n",
    "            # nn.Tanh(),\n",
    "            nn.ELU();\n",
    "            nn.Dropout(0.5),\n",
    "            nn.Linear(out1_size, out2_size)\n",
    "\n",
    "    # Takes the input images and applies the convolutional, pooling and linear layers to the input\n",
    "    def forward(self, x):\n",
    "        \n",
    "        out = self.layer1(x)\n",
    "        print(out.shape)\n",
    "        \n",
    "        # The output of the first layer is passed into the second layer\n",
    "        out = self.layer2(out)\n",
    "        print(out.shape)\n",
    "        \n",
    "        # Reshape for the linear layers to a 1d vector \n",
    "        out = out.reshape(out.size(0), -1)\n",
    "        print(out.shape)\n",
    "        \n",
    "        # The output will be fed into our fully connected layer which we had set to 512 pixels\n",
    "        out = self.layer3(out)\n",
    "        print(out.shape)\n",
    "        \n",
    "        #return out\n",
    "        return F.log_softmax(out, dim=-1)"
   ]
  },
  {
   "cell_type": "code",
   "execution_count": null,
   "id": "82082d06",
   "metadata": {},
   "outputs": [],
   "source": [
    "# Select this cell where you're evaluating your model and select Run All Above Selected Cell.\n",
    "# Wait for the computer to run the cells and then run this cell.\n",
    "model.eval()\n",
    "\n",
    "# Turn off gradients during the evaluation process\n",
    "with torch.no_grad():\n",
    "    correct = 0\n",
    "    total = 0\n",
    "    for images, labels in testloader:\n",
    "        \n",
    "        images, labels = images.to(device), labels.to(device)\n",
    "        outputs = model(images)\n",
    "        _, predicted = torch.max(outputs.data, 1)\n",
    "        total += labels.size(0)\n",
    "        correct += (predicted == labels).sum().item()\n",
    "    \n",
    "    print('Accuracy of the model on the 10000 test images: {}%'\\\n",
    "          .format(100 * correct / total))\n",
    " \n",
    "\n",
    "# Output with ReLU() is \n",
    "# Accuracy of the model on the 10000 test images: 73.27%\n",
    "\n",
    "# Output with Sigmoid() is \n",
    "# Accuracy of the model on the 10000 test images: 68.02%\n",
    "\n",
    "# Change Sigmoid() to Tanh(), run all cells above this, then this.\n",
    "# Output with Tanh() is \n",
    "# Accuracy of the model on the 10000 test images: 68.81%\n",
    "\n",
    "# Change Tanh() to ELU(), run all cells above this, then this.\n",
    "# Output with ELU() is \n",
    "# Accuracy of the model on the 10000 test images: 71.62%"
   ]
  },
  {
   "cell_type": "markdown",
   "id": "83c37374",
   "metadata": {},
   "source": [
    "##### Apply different pooling functions"
   ]
  },
  {
   "cell_type": "code",
   "execution_count": null,
   "id": "9c8d8282",
   "metadata": {},
   "outputs": [],
   "source": [
    "class ConvNet(nn.Module):\n",
    "    def __init__(self):\n",
    "        super(ConvNet, self).__init__()\n",
    "        \n",
    "        self.layer1 = nn.Sequential(\n",
    "            nn.Conv2d(in_size, hid1_size, k_conv_size),\n",
    "            nn.BatchNorm2d(hid1_size),\n",
    "            nn.ELU();  # Exponential Linear Unit\n",
    "            # nn.MaxPool2d(kernel_size=2))\n",
    "            # nn.AvgPool2d(kernel_size=2))\n",
    "            nn.LPPool2d(1, kernel_size=2))\n",
    "        \n",
    "        self.layer2 = nn.Sequential(\n",
    "            nn.Conv2d(hid1_size, hid2_size, k_conv_size), \n",
    "            nn.BatchNorm2d(hid2_size),\n",
    "            nn.ELU();\n",
    "            # nn.MaxPool2d(kernel_size=2))\n",
    "            # nn.AvgPool2d(kernel_size=2))\n",
    "            nn.LPPool2d(1, kernel_size=2))\n",
    "        \n",
    "        # Fully connected layers\n",
    "        self.layer3= nn.Sequential(\n",
    "            nn.Linear(hid2_size * k_conv_size * k_conv_size, out1_size),\n",
    "            nn.ELU();\n",
    "            nn.Dropout(0.5),\n",
    "            nn.Linear(out1_size, out2_size)\n",
    "\n",
    "    # Takes the input images and applies the convolutional, pooling and linear layers to the input\n",
    "    def forward(self, x):\n",
    "        \n",
    "        out = self.layer1(x)\n",
    "        print(out.shape)\n",
    "        \n",
    "        # The output of the first layer is passed into the second layer\n",
    "        out = self.layer2(out)\n",
    "        print(out.shape)\n",
    "        \n",
    "        # Reshape for the linear layers to a 1d vector \n",
    "        out = out.reshape(out.size(0), -1)\n",
    "        print(out.shape)\n",
    "        \n",
    "        # The output will be fed into our fully connected layer which we had set to 512 pixels\n",
    "        out = self.layer3(out)\n",
    "        print(out.shape)\n",
    "        \n",
    "        #return out\n",
    "        return F.log_softmax(out, dim=-1)"
   ]
  },
  {
   "cell_type": "code",
   "execution_count": null,
   "id": "508b1927",
   "metadata": {},
   "outputs": [],
   "source": [
    "# Run all cell until this and then this to train the neural network.\n",
    "\n",
    "# Outer for loop is for the number of epochs of training we want to run.\n",
    "for epoch in range(num_epochs):\n",
    "    \n",
    "    # Inner for loop runs over all of the batches in the training data.\n",
    "    for i, (images, labels) in enumerate(trainloader):\n",
    "        images, labels = images.to(device), labels.to(device)\n",
    "        outputs = model(images)\n",
    "        # Calculate the loss from the actual labels vs the predicted labels.\n",
    "        loss = criterion(outputs, labels)\n",
    "    \n",
    "        # Zero out the gradients for our model.\n",
    "        optimizer.zero_grad()\n",
    "        # Make a backward pass for the neural network.\n",
    "        loss.backward()\n",
    "        # Update the model parameters .\n",
    "        optimizer.step()\n",
    "        \n",
    "        # For every 200 batches, we'll print out the current epoch, the current step\n",
    "        # and the loss from our model.\n",
    "        if (i+1) % 2000 == 0:\n",
    "            print('Epoch [{}/{}], Step [{}/{}], Loss: {:.4f}'\n",
    "                  .format(epoch+1, num_epochs, i+1, total_step, loss.item()))\n",
    "            loss_values.append(loss.item())\n",
    "\n",
    "print('Finished Training')\n",
    "# Run cell and start training!!! This dataset takes around 10-15 minutes on the GPU\n",
    "\n",
    "# Then run model.eval() cell to get the accuracy of this new model which is 73.29%."
   ]
  },
  {
   "cell_type": "markdown",
   "id": "15a8bb80",
   "metadata": {},
   "source": [
    "Before we change pooling layer function we choose Edit => Clear All Outputs and\n",
    "scroll back to class ConvNet(nn.Module):\n",
    "\n",
    "PyTorch allows us to tweak our layer to be somewhere between MaxPool and AvgPool.\n",
    "This is called the LPPool. 2D power average pooling: p = infinity gives Max pooling\n",
    "and p = 1 gives Average Pooling. Other values between 1 and infinity allows us to tweak\n",
    "somewhere between MaxPool and AvgPool.\n",
    "\n",
    "Scroll down and select the cell above model.eval() (x = (range(1, 11)) and choose Run All Above Selected Cell. When the model has trained, run model.eval() to get the accuracy. Now choose different values for LPPool and see how the model changes."
   ]
  },
  {
   "cell_type": "markdown",
   "id": "ec8acbb4",
   "metadata": {},
   "source": [
    "##### Apply different convolution kernel sizes"
   ]
  },
  {
   "cell_type": "markdown",
   "id": "82264357",
   "metadata": {},
   "source": [
    "Just for showing the problem ...\n",
    "\n",
    "Start with Edit => Clear All Outputs, refresh the page and restart the kernel.\n",
    "\n",
    "Run all cells until you come to the cell where your're defining the variables for your CNN (in_size = 3 ...). Let set the kernel size to 6.\n",
    "\n",
    "The kernel size has to be such that your output feature map as integer values for dimensions, height. They have to fit in with the size of the input image that you're working on, and the size of the kernel of the pooling layer that you're using. \n",
    "\n",
    "Run all cells until you come to for epoch in rang(num_epochs): Here you will get an error when running the cell due to a mismatch in kernel size"
   ]
  },
  {
   "cell_type": "code",
   "execution_count": null,
   "id": "f7174ca5",
   "metadata": {},
   "outputs": [],
   "source": [
    "import numpy as np\n",
    "import matplotlib.pyplot as plt\n",
    "\n",
    "import torch\n",
    "import torchvision\n",
    "import torch.nn as nn\n",
    "import torch.nn.functional as F\n",
    "import torchvision.transforms as transforms"
   ]
  },
  {
   "cell_type": "code",
   "execution_count": null,
   "id": "b2e15018",
   "metadata": {},
   "outputs": [],
   "source": [
    "mean = [0.491.., 0.482.., 0.4467..]\n",
    "std = [0.238.., 0.234.., 0.2526..]"
   ]
  },
  {
   "cell_type": "code",
   "execution_count": null,
   "id": "90720a13",
   "metadata": {},
   "outputs": [],
   "source": [
    "# We will work with the same dataset but we'll resixe the input images so that\n",
    "# they are 128x128 images, larger images.\n",
    "\n",
    "train_transform = transforms.Compose([\n",
    "    transforms.Resize(128),\n",
    "    transforms.RandomHorizontalFlip(),\n",
    "    transforms.ToTensor(),\n",
    "    transforms.Normalization(mean, std)  # Should it be Normalize???\n",
    "])"
   ]
  },
  {
   "cell_type": "code",
   "execution_count": null,
   "id": "36743824",
   "metadata": {},
   "outputs": [],
   "source": [
    "test_transform = transforms.Compose([\n",
    "    transforms.Resize(128),\n",
    "    transforms.ToTensor(),\n",
    "    transforms.Normalization(mean, std)\n",
    "])"
   ]
  },
  {
   "cell_type": "code",
   "execution_count": null,
   "id": "eb979009",
   "metadata": {},
   "outputs": [],
   "source": [
    "trainset = torchvision.dataset.CIFAR10(root=....)\n",
    "\n",
    "testset = torchvision...\n",
    "\n",
    "trainloader = torch.utils...\n",
    "\n",
    "tesloader = torch.utils..."
   ]
  },
  {
   "cell_type": "code",
   "execution_count": null,
   "id": "5540c9b2",
   "metadata": {},
   "outputs": [],
   "source": [
    "# Set up variables that hold information about the CNN that we are about to set up.\n",
    "in_size = 3  # RGB = 3 channels\n",
    "\n",
    "# Convolution and pooling layers\n",
    "hid1_size = 16\n",
    "hid2_size = 32\n",
    "hid3_size = 64\n",
    "\n",
    "# Fully connected layers (linear?)\n",
    "out1_size = 2000\n",
    "out2_size = 10\n",
    "\n",
    "k_conv_soze = 9"
   ]
  },
  {
   "cell_type": "code",
   "execution_count": null,
   "id": "5e7c7427",
   "metadata": {},
   "outputs": [],
   "source": [
    "class ConvNet(nn.Module):\n",
    "    def __init__(self):\n",
    "        super(ConvNet, self).__init__()\n",
    "        \n",
    "        # Conv2D output will be 120x120, and the MaxPool2d output will be 60x60\n",
    "        self.layer1 = nn.Sequential(\n",
    "            nn.Conv2d(in_size, hid1_size, k_conv_size),\n",
    "            nn.BatchNorm2d(hid1_size),\n",
    "            nn.ReLU(); \n",
    "            nn.MaxPool2d(kernel_size=2))\n",
    "        \n",
    "        # Conv2D output will be 52x52 and MaxPool2D will be 26x26\n",
    "        self.layer2 = nn.Sequential(\n",
    "            nn.Conv2d(hid1_size, hid2_size, k_conv_size), \n",
    "            nn.BatchNorm2d(hid2_size),\n",
    "            nn.ReLU(); \n",
    "            nn.MaxPool2d(kernel_size=2))\n",
    "        \n",
    "        # Conv2D output will be 18x18 and MaxPool2D will be 9x9, equal to the size \n",
    "        # of our convolution kernel\n",
    "        self.layer3= nn.Sequential(\n",
    "            nn.Conv2d(hid2_size, hid3_size, k_conv_size), \n",
    "            nn.BatchNorm2d(hid3_size),\n",
    "            nn.ReLU(); \n",
    "            nn.MaxPool2d(kernel_size=2))\n",
    "        \n",
    "        # Fully connected layers\n",
    "        # The number of neurons in the 1st fully connected layer is the number of\n",
    "        # the feature maps produced by the last convolutional layer (hid3_size*the size\n",
    "        # of every feature map, that is 9x9)\n",
    "        self.layer4= nn.Sequential(\n",
    "            nn.Linear(hid3_size * k_conv_size * k_conv_size, out1_size),\n",
    "            nn.ReLU();\n",
    "            nn.Dropout(0.5),\n",
    "            nn.Linear(out1_size, out2_size)\n",
    "            \n",
    "    def forward(self, x):\n",
    "        \n",
    "        out = self.layer1(x)\n",
    "        print(out.shape)\n",
    "        \n",
    "        out = self.layer2(out)\n",
    "        print(out.shape)\n",
    "        \n",
    "        out = out.reshape(out.size(0), -1)\n",
    "        print(out.shape)\n",
    "        \n",
    "        out = self.layer3(out)\n",
    "        print(out.shape)\n",
    "        \n",
    "        #return out\n",
    "        return F.log_softmax(out, dim=-1)"
   ]
  },
  {
   "cell_type": "code",
   "execution_count": null,
   "id": "107af847",
   "metadata": {},
   "outputs": [],
   "source": [
    "model = ConvNet()\n",
    "device = torch.device...\n",
    "model.to(device)\n",
    "learning_rate =\n",
    "criterion =\n",
    "optimizer ="
   ]
  },
  {
   "cell_type": "code",
   "execution_count": null,
   "id": "fea95cfb",
   "metadata": {},
   "outputs": [],
   "source": [
    "# Here is the cell where we train our CNN\n",
    "total_step =...\n",
    "\n",
    "for epoch in range...\n",
    "\n",
    "# Run these cells and observe the output sizes after each layer. Check that the\n",
    "# output matches what we are expecting."
   ]
  },
  {
   "cell_type": "code",
   "execution_count": null,
   "id": "40fda8eb",
   "metadata": {},
   "outputs": [],
   "source": [
    "x = (range...)\n",
    "\n",
    "plt.figure... ('Step' and 'Loss')"
   ]
  },
  {
   "cell_type": "code",
   "execution_count": null,
   "id": "ce4504b2",
   "metadata": {},
   "outputs": [],
   "source": [
    "model.eval()...\n",
    "\n",
    "# Accuracy of this models is 75.76%."
   ]
  },
  {
   "cell_type": "markdown",
   "id": "b10a526f",
   "metadata": {},
   "source": [
    "### Performing Image Classification with Pre-trained Models"
   ]
  },
  {
   "cell_type": "markdown",
   "id": "d16f59dc",
   "metadata": {},
   "source": [
    "##### Transfer Learning\n",
    "The practice of re-using a trained neural network that solves a problem similar to yours, freezing the lower layers and only re-training the higher layers.\n",
    "\n",
    "Reusing a neural network can involve reusing the architecture of the model as well as the pre-trained weights. Transfer learning works only for specific use cases that are common, such as image recognition and classification or language translation. \n",
    "\n",
    "The initial layers of any neural network focus on granilar details of the input. Lower layers mostly perform feature extraction. With transfer learning we can freeze the lower layers so that they continue to perform feature extraction. The higher/later layers are more specific to your problem. Numbers of outputs likely changes too.\n",
    "\n",
    "Benefits of Transer Learning:\n",
    "- Ride on the shoulders of giants\n",
    "- NN architecture\n",
    "- Choice of initialization\n",
    "- Activation functions\n",
    "- Number and density of layers\n",
    "\n",
    "Transfer learning works very well if you have a small dataset on which you want to train your model. You can do more with less. If we have little training data we might overfit on the data. It is faster and cheaper: We have smaller training data the we need to feed into our model and we only need to train a few layer.\n",
    "\n",
    "In PyTorch, there are supprort for several famous NN architectures, specially for image classification (torchvision.models is Alexnet, VGG, ResNet, Inception ...). "
   ]
  },
  {
   "cell_type": "markdown",
   "id": "42e3720e",
   "metadata": {},
   "source": [
    "##### Using the ResNet-18 Pre-trained Model"
   ]
  },
  {
   "cell_type": "code",
   "execution_count": null,
   "id": "2095e893",
   "metadata": {},
   "outputs": [],
   "source": [
    "import copy\n",
    "import numpy as np\n",
    "import matplotlib.pyplot as plt\n",
    "\n",
    "import torch\n",
    "import torch.nn as nn\n",
    "import torch.optim as optim\n",
    "from torch.optim import lr_scheduler\n",
    "\n",
    "import torchvision\n",
    "from torchvision import datasets, transforms"
   ]
  },
  {
   "cell_type": "code",
   "execution_count": null,
   "id": "6f8521f0",
   "metadata": {},
   "outputs": [],
   "source": [
    "mean = np.array([0.485, 0.456, 0.406])\n",
    "std = np.array([0.229, 0.224, 0.225])"
   ]
  },
  {
   "cell_type": "markdown",
   "id": "bd2d2b93",
   "metadata": {},
   "source": [
    "Pre-trained models in PyTorch expect images of at least 224x224, pixel values in the range (0,1) and normalized using these values: https://pytorch.org/docs/stable/torchvision/models.html"
   ]
  },
  {
   "cell_type": "code",
   "execution_count": null,
   "id": "0047eedb",
   "metadata": {},
   "outputs": [],
   "source": [
    "train_transform = transforms.Compose([\n",
    "    transforms.RandomResizeCrop(224),\n",
    "    transforms.RandomHorizontalFlip(),\n",
    "    transforms.ToTensor(),\n",
    "    transforms.Normalize(mean=mean, std=std)\n",
    "])"
   ]
  },
  {
   "cell_type": "code",
   "execution_count": null,
   "id": "2fa98c74",
   "metadata": {},
   "outputs": [],
   "source": [
    "test_transform = transforms.Compose([\n",
    "    transforms.Resize(256),\n",
    "    transforms.CenterCrop(224),\n",
    "    transforms.ToTensor(),\n",
    "    transforms.Normalize(mean=mean, std=std)\n",
    "])"
   ]
  },
  {
   "cell_type": "code",
   "execution_count": null,
   "id": "d6def397",
   "metadata": {},
   "outputs": [],
   "source": [
    "data_dir = 'datasets/cifar10/train'\n",
    "batch_size = 8\n",
    "num_workers = 2"
   ]
  },
  {
   "cell_type": "code",
   "execution_count": null,
   "id": "1ef6302e",
   "metadata": {},
   "outputs": [],
   "source": [
    "trainset = datasets.CIFAR10(root=data_dir,\n",
    "                           train=True,\n",
    "                           download=True,\n",
    "                           transform=train_transform)"
   ]
  },
  {
   "cell_type": "code",
   "execution_count": null,
   "id": "f391e1ba",
   "metadata": {},
   "outputs": [],
   "source": [
    "testset = datasets.CIFAR10(root=data_dir,\n",
    "                           train=False,\n",
    "                           download=True,\n",
    "                           transform=test_transform)"
   ]
  },
  {
   "cell_type": "code",
   "execution_count": null,
   "id": "de7b432f",
   "metadata": {},
   "outputs": [],
   "source": [
    "trainloader = torch.utils.data.DataLoader(trainset,\n",
    "                                         batch_size=batch_size,\n",
    "                                         shuffle=True,\n",
    "                                         num_workers=num_workers)"
   ]
  },
  {
   "cell_type": "code",
   "execution_count": null,
   "id": "06f4e1bc",
   "metadata": {},
   "outputs": [],
   "source": [
    "testloader = torch.utils.data.DataLoader(testset,\n",
    "                                         batch_size=batch_size,\n",
    "                                         shuffle=False,\n",
    "                                         num_workers=num_workers)"
   ]
  },
  {
   "cell_type": "code",
   "execution_count": null,
   "id": "1f9cf047",
   "metadata": {},
   "outputs": [],
   "source": [
    "dataloaders = {\n",
    "    'train': trainloader,\n",
    "    'test': testloader\n",
    "}"
   ]
  },
  {
   "cell_type": "code",
   "execution_count": null,
   "id": "fe7d1035",
   "metadata": {},
   "outputs": [],
   "source": [
    "# This holds the number of batches that exist in training and test data.\n",
    "dataset_sizes = {'train': len(trainloader), 'test': len(testloader)}"
   ]
  },
  {
   "cell_type": "code",
   "execution_count": null,
   "id": "1ceefed7",
   "metadata": {},
   "outputs": [],
   "source": [
    "class_names = trainset.classes\n",
    "\n",
    "print(class_names)\n",
    "# Output is the image categories."
   ]
  },
  {
   "cell_type": "code",
   "execution_count": null,
   "id": "c0c68bf5",
   "metadata": {},
   "outputs": [],
   "source": [
    "from torchvision import models"
   ]
  },
  {
   "cell_type": "code",
   "execution_count": null,
   "id": "093a2753",
   "metadata": {},
   "outputs": [],
   "source": [
    "# If we want to use the pre-trained weight of the ResNet model, which we do,\n",
    "# we set pretrained equal to True. If we only want to use the architecture of\n",
    "# the model but not the pretrained weights, we set pretrained equal False.\n",
    "model = models.resnet18(pretrained=True)\n",
    "\n",
    "# In order to use this model with our dataset, we'll need to change the last\n",
    "# layer of this model. All pretrained models in PyTorch have been trained on\n",
    "# the ImageNet dataset which has images classified into 1000 categories. The \n",
    "# out_feature of the last linear layer is therefore equal to 1000. We need to \n",
    "# change this number to the number of categories in our dataset.\n",
    "\n",
    "# There is a key associated with each layer in our model, this layer can be\n",
    "# accessed using fc (fully connected).\n",
    "\n",
    "# The first thing to do is to freeze the model parameters of all the layers in \n",
    "# the pretrained model.\n",
    "for param in model.parameters():\n",
    "    param.required_grad = False\n",
    "    \n",
    "# Then replace the last linear layer. The in_features is the number of features\n",
    "# thar we need to pass into the input of this layer.\n",
    "num_ftrs = model.fc.in_features\n",
    "num_ftrs\n",
    "# Outpus is 512\n",
    "# Instantiate/replace a new linear layer as the last fully connected layer of the \n",
    "# ResNet model with the output size = number of output labels in our dataset.\n",
    "model.fc = nn.Linear(num_ftrs, 10)"
   ]
  },
  {
   "cell_type": "code",
   "execution_count": null,
   "id": "b631ea18",
   "metadata": {},
   "outputs": [],
   "source": [
    "# Use the CPU if only the CPU is available on your machine, otherwise the GPU\n",
    "device = torch.device('cpu')\n",
    "\n",
    "if torch.cuda.is_available():\n",
    "    device = torch.device('cuda')\n",
    "    \n",
    "print(device)"
   ]
  },
  {
   "cell_type": "code",
   "execution_count": null,
   "id": "978b5d9f",
   "metadata": {},
   "outputs": [],
   "source": [
    "# Copy over our model parameters to the device\n",
    "model.to(device)"
   ]
  },
  {
   "cell_type": "markdown",
   "id": "5ceeba4c",
   "metadata": {},
   "source": [
    "#### The Train Function to Find the Best Model Weights"
   ]
  },
  {
   "cell_type": "code",
   "execution_count": null,
   "id": "8be9046e",
   "metadata": {},
   "outputs": [],
   "source": [
    "# The model is set ut, let's instantiate and tran the model parameters\n",
    "model = ConvNet()"
   ]
  },
  {
   "cell_type": "code",
   "execution_count": null,
   "id": "7c752928",
   "metadata": {},
   "outputs": [],
   "source": [
    "device = torch.device('cuda:0' if torch.cuda.is_available() else 'cpu')\n",
    "\n",
    "print(device)\n",
    "\n",
    "model.to(device)"
   ]
  },
  {
   "cell_type": "code",
   "execution_count": null,
   "id": "bffbadaa",
   "metadata": {},
   "outputs": [],
   "source": [
    "# Set up the parameters to train the model\n",
    "learning_rate = 0.001\n",
    "\n",
    "criterion = nn.NLLLoss()\n",
    "\n",
    "optimizer = torch.optim.Adam(model.parameters(), lr=learning_rate)"
   ]
  },
  {
   "cell_type": "code",
   "execution_count": null,
   "id": "16a37f66",
   "metadata": {},
   "outputs": [],
   "source": [
    "total_step = len(trainloader)\n",
    "num_epochs = 10\n",
    "loss_values = list()"
   ]
  },
  {
   "cell_type": "code",
   "execution_count": null,
   "id": "11226094",
   "metadata": {},
   "outputs": [],
   "source": [
    "for epoch in range(num_epochs):\n",
    "    \n",
    "    for i, (images, labels) in enumerate(trainloader):\n",
    "        \n",
    "        # For every batch we'll need to move the image tensors and corresponding ylabels\n",
    "        # over to the device before we can feed them into our ML model and calculate the loss.\n",
    "        images, labels = images.to(device), labels.to(device)\n",
    "        outputs = model(images)\n",
    "        loss = criterion(outputs, labels)\n",
    "        \n",
    "        # The backward pass that calculates the gradients for the model weights\n",
    "        # and then updates the gradients using the optimizer.\n",
    "        optimizer.zero_grad()\n",
    "        loss.backward()\n",
    "        optimizer.step()\n",
    "        \n",
    "        if (i+1) % 2000 == 0:\n",
    "            print('Epoch [{}/{}], Step [{}/{}], Loss: {:.4f}'\n",
    "                 .format(epoch+1, num_epochs, i+1, total_step, loss.item()))\n",
    "            \n",
    "            loss_values.append(loss.item())\n",
    "\n",
    "print('Finished Training')"
   ]
  },
  {
   "cell_type": "code",
   "execution_count": null,
   "id": "cc9af8af",
   "metadata": {},
   "outputs": [],
   "source": [
    "x = (range(1, 11))\n",
    "\n",
    "plt.figure(figsize=(12, 10))\n",
    "\n",
    "plt.plot(x, loss_values)\n",
    "plt.xlabel('Step')\n",
    "plt.ylbel('Loss')"
   ]
  },
  {
   "cell_type": "code",
   "execution_count": null,
   "id": "6c875e19",
   "metadata": {},
   "outputs": [],
   "source": [
    "model.eval()\n",
    "\n",
    "with torch.no_grad():\n",
    "    correct = 0\n",
    "    total = 0\n",
    "    for images, labels in testloader:\n",
    "        \n",
    "        images, labels = images.to(device), labels.to(device)\n",
    "        outputs = model(images)\n",
    "        _, predicted = torch.max(outputs.data, 1)\n",
    "        total += labels.size(0)\n",
    "        correct += (predicted == labels).sum().item()\n",
    "    \n",
    "    print('Accuracy of the model on the 10000 test images: {}%'\\\n",
    "          .format(100 * correct / total))"
   ]
  },
  {
   "cell_type": "markdown",
   "id": "ca9545e6",
   "metadata": {},
   "source": [
    "#### Predictions Using Pre-trained Models"
   ]
  },
  {
   "cell_type": "code",
   "execution_count": null,
   "id": "9d0a2d32",
   "metadata": {},
   "outputs": [],
   "source": [
    "model = train_model(model, criterion, optimizer_ft,\n",
    "                   exp_lr_scheduler, num_epochs=1)"
   ]
  },
  {
   "cell_type": "code",
   "execution_count": null,
   "id": "2500f25b",
   "metadata": {},
   "outputs": [],
   "source": [
    "# Help function to function below\n",
    "def imshow(inp, title):\n",
    "    \n",
    "    inp = inp.cpu().numpy().transpose((1, 2, 0))\n",
    "    inp = std * inp + mean\n",
    "    inp = np.clip(inp, 0, 1)\n",
    "    \n",
    "    plt.imshow(inp)\n",
    "    plt.title(title)\n",
    "    plt.pause(5)"
   ]
  },
  {
   "cell_type": "code",
   "execution_count": null,
   "id": "1dc3f390",
   "metadata": {},
   "outputs": [],
   "source": [
    "# Set up torch.no_grad so that we don't calculate gradients in the prediction pass\n",
    "with torch.no_grad():\n",
    "    \n",
    "    inputs, labels = iter(dataloaders['test']).next()\n",
    "    inputs, labels = inputs.to(device), labels.to(device)\n",
    "    inp = torchvision.utils.make_grid(inputs)\n",
    "    \n",
    "    outputs = model(inputs)\n",
    "    _, preds = torh.max(outputs, 1)\n",
    "    \n",
    "    for j in range(len(inputs)):\n",
    "        inp = inputs.data[j]\n",
    "        imshow(inp, 'predicted: ' + class_names[preds[j]])"
   ]
  }
 ],
 "metadata": {
  "kernelspec": {
   "display_name": "Python 3",
   "language": "python",
   "name": "python3"
  },
  "language_info": {
   "codemirror_mode": {
    "name": "ipython",
    "version": 3
   },
   "file_extension": ".py",
   "mimetype": "text/x-python",
   "name": "python",
   "nbconvert_exporter": "python",
   "pygments_lexer": "ipython3",
   "version": "3.8.8"
  }
 },
 "nbformat": 4,
 "nbformat_minor": 5
}
